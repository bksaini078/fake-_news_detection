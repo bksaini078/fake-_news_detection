{
  "nbformat": 4,
  "nbformat_minor": 0,
  "metadata": {
    "colab": {
      "name": "Evaluation_FakeNewsDetection.ipynb",
      "provenance": [],
      "collapsed_sections": [
        "2twecEG80PHP",
        "XmsEsaKW1CO8",
        "3NpzIM0f1FUI",
        "Gv7inC5O1Jjw"
      ],
      "toc_visible": true
    },
    "kernelspec": {
      "name": "python3",
      "display_name": "Python 3"
    }
  },
  "cells": [
    {
      "cell_type": "markdown",
      "metadata": {
        "id": "2tkFN7YqyAti",
        "colab_type": "text"
      },
      "source": [
        "**Author: Bhupender Kumar Saini**"
      ]
    },
    {
      "cell_type": "code",
      "metadata": {
        "id": "LHll_9yzmfk1",
        "colab_type": "code",
        "colab": {}
      },
      "source": [
        "import pandas as pd \n",
        "import matplotlib.pyplot as pyplot\n",
        "import numpy as np \n",
        "from scipy.stats import sem, t\n",
        "from scipy import mean\n",
        "path='/content/drive/My Drive/Colab Notebooks/LatestData_July'"
      ],
      "execution_count": null,
      "outputs": []
    },
    {
      "cell_type": "code",
      "metadata": {
        "id": "h3O9SzK33uzo",
        "colab_type": "code",
        "colab": {}
      },
      "source": [
        "# function for calcuting mean confidence interval \n",
        "def mean_confidence_interval(data, confidence=0.95):\n",
        "    a = np.array(data)\n",
        "    n = len(a)\n",
        "    m, se = np.mean(a), scipy.stats.sem(a)\n",
        "    h = se * scipy.stats.t.ppf((1 + confidence) / 2., n-1)\n",
        "    return m, +h, -h\n",
        "def plot_roc(fpr,tpr,label):\n",
        "    #  plot the roc curve for the model\n",
        "    pyplot.plot(fpr, tpr, linestyle='--', label=label)\n",
        "\n",
        "    pyplot.xlabel('False Positive Rate')\n",
        "    pyplot.ylabel('True Positive Rate')\n",
        "    # show the legend\n",
        "    pyplot.legend()\n",
        "    # show the plot \n",
        "    pyplot.show()\n",
        "    return"
      ],
      "execution_count": null,
      "outputs": []
    },
    {
      "cell_type": "code",
      "metadata": {
        "id": "wmiXLEpZmsyp",
        "colab_type": "code",
        "colab": {}
      },
      "source": [
        "#Epoch 30 data , recorded previously SPACY\n",
        "df_synonym_1= pd.read_csv(path+'/report_synonym_noisedidff_0.99_10fold_2.csv')\n",
        "df_unlabel_1= pd.read_csv(path+'/report_synonym_unlabelledDifference_0.99_10fold_2.csv')\n",
        "df_dropout_1= pd.read_csv(path+'/report_dropout_0.99_10fold_2.csv')\n",
        "df_synonymand_dropout_1= pd.read_csv(path+'/report_synonymanddropout_0.99_10fold_2.csv')\n",
        "df_labelprop= pd.read_csv(path+'/report_labelProp_0.99_10fold_2.csv')\n",
        "df_supervised = pd.read_csv(path+'/report_supervised_0.99_10fold_2.csv')\n",
        "\n",
        "epochs= 15\n",
        "df_synonym_1 = df_synonym_1[df_synonym_1['Epoch']==epochs]\n",
        "df_unlabel_1 = df_unlabel_1[df_unlabel_1['Epoch']==epochs]\n",
        "df_dropout_1 = df_dropout_1[df_dropout_1['Epoch']==epochs]\n",
        "df_synonymand_dropout_1 = df_synonymand_dropout_1[df_synonymand_dropout_1['Epoch']==epochs]\n",
        "df_supervised = df_supervised[df_supervised['Epoch']==epochs]\n",
        "\n",
        "\n",
        "df_synonym_1=df_synonym_1.drop(['Alpha','Batch_Size','Learning Rate','Train_Accuracy','comment','Date', 'Ratio'], axis = 1) \n",
        "df_synonym_1= df_synonym_1.reset_index(drop= True)\n",
        "df_synonymand_dropout_1=df_synonymand_dropout_1.drop(['Alpha','Batch_Size','Learning Rate','Train_Accuracy','comment','Date','Ratio'], axis = 1) \n",
        "df_synonymand_dropout_1= df_synonymand_dropout_1.reset_index(drop= True)\n",
        "df_dropout_1=df_dropout_1.drop(['Alpha','Batch_Size','Learning Rate','Train_Accuracy','comment','Date','Ratio'], axis = 1) \n",
        "df_dropout_1= df_dropout_1.reset_index(drop= True)\n",
        "df_unlabel_1=df_unlabel_1.drop(['Alpha','Batch_Size','Learning Rate','Train_Accuracy','comment','Date','Ratio'], axis = 1) \n",
        "df_unlabel_1= df_unlabel_1.reset_index(drop= True)\n",
        "df_supervised=df_supervised.drop(['Alpha','Batch_Size','Learning Rate','Train_Accuracy','comment','Date','Ratio'], axis = 1) \n",
        "df_supervised= df_supervised.reset_index(drop= True)\n",
        "df_labelprop=df_labelprop.drop(['Alpha','Batch_Size','Learning Rate','Train_Accuracy','comment','Date','Ratio'], axis = 1) \n",
        "df_labelprop= df_labelprop.reset_index(drop= True)\n",
        "df_unlabel_1"
      ],
      "execution_count": null,
      "outputs": []
    },
    {
      "cell_type": "code",
      "metadata": {
        "id": "cimWjqE4VITP",
        "colab_type": "code",
        "colab": {
          "base_uri": "https://localhost:8080/",
          "height": 33
        },
        "outputId": "0218abc8-ca82-402a-dab0-a52015519c42"
      },
      "source": [
        "len=df_dropout_1['Epoch'].count()/2\n",
        "len"
      ],
      "execution_count": null,
      "outputs": [
        {
          "output_type": "execute_result",
          "data": {
            "text/plain": [
              "10.0"
            ]
          },
          "metadata": {
            "tags": []
          },
          "execution_count": 24
        }
      ]
    },
    {
      "cell_type": "markdown",
      "metadata": {
        "id": "sL1IWa8X0p0a",
        "colab_type": "text"
      },
      "source": [
        "# label propogation"
      ]
    },
    {
      "cell_type": "code",
      "metadata": {
        "id": "nTgmo8Eb0sFa",
        "colab_type": "code",
        "colab": {
          "base_uri": "https://localhost:8080/",
          "height": 144
        },
        "outputId": "c43cbc5d-9f99-490f-8cba-89fb796d9737"
      },
      "source": [
        "df_labelprop.groupby('Model').mean().sort_index(axis = 1)"
      ],
      "execution_count": null,
      "outputs": [
        {
          "output_type": "execute_result",
          "data": {
            "text/html": [
              "<div>\n",
              "<style scoped>\n",
              "    .dataframe tbody tr th:only-of-type {\n",
              "        vertical-align: middle;\n",
              "    }\n",
              "\n",
              "    .dataframe tbody tr th {\n",
              "        vertical-align: top;\n",
              "    }\n",
              "\n",
              "    .dataframe thead th {\n",
              "        text-align: right;\n",
              "    }\n",
              "</style>\n",
              "<table border=\"1\" class=\"dataframe\">\n",
              "  <thead>\n",
              "    <tr style=\"text-align: right;\">\n",
              "      <th></th>\n",
              "      <th>Classification_Loss</th>\n",
              "      <th>Epoch</th>\n",
              "      <th>F1_Score_Fake</th>\n",
              "      <th>F1_Score_True</th>\n",
              "      <th>Precision_Fake</th>\n",
              "      <th>Precision_True</th>\n",
              "      <th>Recall_Fake</th>\n",
              "      <th>Recall_True</th>\n",
              "      <th>Test_Accuracy</th>\n",
              "    </tr>\n",
              "    <tr>\n",
              "      <th>Model</th>\n",
              "      <th></th>\n",
              "      <th></th>\n",
              "      <th></th>\n",
              "      <th></th>\n",
              "      <th></th>\n",
              "      <th></th>\n",
              "      <th></th>\n",
              "      <th></th>\n",
              "      <th></th>\n",
              "    </tr>\n",
              "  </thead>\n",
              "  <tbody>\n",
              "    <tr>\n",
              "      <th>Label Propogation</th>\n",
              "      <td>7.773508</td>\n",
              "      <td>NaN</td>\n",
              "      <td>0.548042</td>\n",
              "      <td>0.452506</td>\n",
              "      <td>0.49096</td>\n",
              "      <td>0.528288</td>\n",
              "      <td>0.621989</td>\n",
              "      <td>0.397175</td>\n",
              "      <td>0.505574</td>\n",
              "    </tr>\n",
              "  </tbody>\n",
              "</table>\n",
              "</div>"
            ],
            "text/plain": [
              "                   Classification_Loss  Epoch  ...  Recall_True  Test_Accuracy\n",
              "Model                                          ...                            \n",
              "Label Propogation             7.773508    NaN  ...     0.397175       0.505574\n",
              "\n",
              "[1 rows x 9 columns]"
            ]
          },
          "metadata": {
            "tags": []
          },
          "execution_count": 40
        }
      ]
    },
    {
      "cell_type": "code",
      "metadata": {
        "id": "ea4zRUnx0vFg",
        "colab_type": "code",
        "colab": {
          "base_uri": "https://localhost:8080/",
          "height": 144
        },
        "outputId": "edbe2a61-7923-4e9c-8bd1-31a21a2ef823"
      },
      "source": [
        "std_error=df_labelprop.groupby('Model').sem()\n",
        "h = std_error * t.ppf((1 + 0.95) / 2., len-1)\n",
        "h.sort_index(axis = 1)"
      ],
      "execution_count": null,
      "outputs": [
        {
          "output_type": "execute_result",
          "data": {
            "text/html": [
              "<div>\n",
              "<style scoped>\n",
              "    .dataframe tbody tr th:only-of-type {\n",
              "        vertical-align: middle;\n",
              "    }\n",
              "\n",
              "    .dataframe tbody tr th {\n",
              "        vertical-align: top;\n",
              "    }\n",
              "\n",
              "    .dataframe thead th {\n",
              "        text-align: right;\n",
              "    }\n",
              "</style>\n",
              "<table border=\"1\" class=\"dataframe\">\n",
              "  <thead>\n",
              "    <tr style=\"text-align: right;\">\n",
              "      <th></th>\n",
              "      <th>Classification_Loss</th>\n",
              "      <th>Epoch</th>\n",
              "      <th>F1_Score_Fake</th>\n",
              "      <th>F1_Score_True</th>\n",
              "      <th>Precision_Fake</th>\n",
              "      <th>Precision_True</th>\n",
              "      <th>Recall_Fake</th>\n",
              "      <th>Recall_True</th>\n",
              "      <th>Test_Accuracy</th>\n",
              "    </tr>\n",
              "    <tr>\n",
              "      <th>Model</th>\n",
              "      <th></th>\n",
              "      <th></th>\n",
              "      <th></th>\n",
              "      <th></th>\n",
              "      <th></th>\n",
              "      <th></th>\n",
              "      <th></th>\n",
              "      <th></th>\n",
              "      <th></th>\n",
              "    </tr>\n",
              "  </thead>\n",
              "  <tbody>\n",
              "    <tr>\n",
              "      <th>Label Propogation</th>\n",
              "      <td>0.065072</td>\n",
              "      <td>NaN</td>\n",
              "      <td>0.018468</td>\n",
              "      <td>0.033957</td>\n",
              "      <td>0.02599</td>\n",
              "      <td>0.034137</td>\n",
              "      <td>0.018837</td>\n",
              "      <td>0.037504</td>\n",
              "      <td>0.020725</td>\n",
              "    </tr>\n",
              "  </tbody>\n",
              "</table>\n",
              "</div>"
            ],
            "text/plain": [
              "                   Classification_Loss  Epoch  ...  Recall_True  Test_Accuracy\n",
              "Model                                          ...                            \n",
              "Label Propogation             0.065072    NaN  ...     0.037504       0.020725\n",
              "\n",
              "[1 rows x 9 columns]"
            ]
          },
          "metadata": {
            "tags": []
          },
          "execution_count": 41
        }
      ]
    },
    {
      "cell_type": "markdown",
      "metadata": {
        "id": "I1z_DnSaZp0y",
        "colab_type": "text"
      },
      "source": [
        "# Supervised"
      ]
    },
    {
      "cell_type": "code",
      "metadata": {
        "id": "neQHdWtwZsCM",
        "colab_type": "code",
        "colab": {
          "base_uri": "https://localhost:8080/",
          "height": 127
        },
        "outputId": "f64a0cb6-04bd-41f9-f0a1-522a8da3e43d"
      },
      "source": [
        "df_supervised.groupby('Model').mean().sort_index(axis = 1)"
      ],
      "execution_count": null,
      "outputs": [
        {
          "output_type": "execute_result",
          "data": {
            "text/html": [
              "<div>\n",
              "<style scoped>\n",
              "    .dataframe tbody tr th:only-of-type {\n",
              "        vertical-align: middle;\n",
              "    }\n",
              "\n",
              "    .dataframe tbody tr th {\n",
              "        vertical-align: top;\n",
              "    }\n",
              "\n",
              "    .dataframe thead th {\n",
              "        text-align: right;\n",
              "    }\n",
              "</style>\n",
              "<table border=\"1\" class=\"dataframe\">\n",
              "  <thead>\n",
              "    <tr style=\"text-align: right;\">\n",
              "      <th></th>\n",
              "      <th>Classification_Loss</th>\n",
              "      <th>Epoch</th>\n",
              "      <th>F1_Score_Fake</th>\n",
              "      <th>F1_Score_True</th>\n",
              "      <th>Precision_Fake</th>\n",
              "      <th>Precision_True</th>\n",
              "      <th>Recall_Fake</th>\n",
              "      <th>Recall_True</th>\n",
              "      <th>Test_Accuracy</th>\n",
              "    </tr>\n",
              "    <tr>\n",
              "      <th>Model</th>\n",
              "      <th></th>\n",
              "      <th></th>\n",
              "      <th></th>\n",
              "      <th></th>\n",
              "      <th></th>\n",
              "      <th></th>\n",
              "      <th></th>\n",
              "      <th></th>\n",
              "      <th></th>\n",
              "    </tr>\n",
              "  </thead>\n",
              "  <tbody>\n",
              "    <tr>\n",
              "      <th>Supervised_BILSTM</th>\n",
              "      <td>0.773901</td>\n",
              "      <td>15</td>\n",
              "      <td>0.663671</td>\n",
              "      <td>0.706057</td>\n",
              "      <td>0.692681</td>\n",
              "      <td>0.69412</td>\n",
              "      <td>0.648991</td>\n",
              "      <td>0.728544</td>\n",
              "      <td>0.687612</td>\n",
              "    </tr>\n",
              "  </tbody>\n",
              "</table>\n",
              "</div>"
            ],
            "text/plain": [
              "                   Classification_Loss  Epoch  ...  Recall_True  Test_Accuracy\n",
              "Model                                          ...                            \n",
              "Supervised_BILSTM             0.773901     15  ...     0.728544       0.687612\n",
              "\n",
              "[1 rows x 9 columns]"
            ]
          },
          "metadata": {
            "tags": []
          },
          "execution_count": 30
        }
      ]
    },
    {
      "cell_type": "code",
      "metadata": {
        "id": "8Hr2xn0PcMuF",
        "colab_type": "code",
        "colab": {
          "base_uri": "https://localhost:8080/",
          "height": 127
        },
        "outputId": "9ba74cfd-a0ca-47fc-e9fa-735d0401b8f7"
      },
      "source": [
        "std_error=df_supervised.groupby('Model').sem()\n",
        "h = std_error * t.ppf((1 + 0.95) / 2., len-1)\n",
        "h.sort_index(axis = 1)"
      ],
      "execution_count": null,
      "outputs": [
        {
          "output_type": "execute_result",
          "data": {
            "text/html": [
              "<div>\n",
              "<style scoped>\n",
              "    .dataframe tbody tr th:only-of-type {\n",
              "        vertical-align: middle;\n",
              "    }\n",
              "\n",
              "    .dataframe tbody tr th {\n",
              "        vertical-align: top;\n",
              "    }\n",
              "\n",
              "    .dataframe thead th {\n",
              "        text-align: right;\n",
              "    }\n",
              "</style>\n",
              "<table border=\"1\" class=\"dataframe\">\n",
              "  <thead>\n",
              "    <tr style=\"text-align: right;\">\n",
              "      <th></th>\n",
              "      <th>Classification_Loss</th>\n",
              "      <th>Epoch</th>\n",
              "      <th>F1_Score_Fake</th>\n",
              "      <th>F1_Score_True</th>\n",
              "      <th>Precision_Fake</th>\n",
              "      <th>Precision_True</th>\n",
              "      <th>Recall_Fake</th>\n",
              "      <th>Recall_True</th>\n",
              "      <th>Test_Accuracy</th>\n",
              "    </tr>\n",
              "    <tr>\n",
              "      <th>Model</th>\n",
              "      <th></th>\n",
              "      <th></th>\n",
              "      <th></th>\n",
              "      <th></th>\n",
              "      <th></th>\n",
              "      <th></th>\n",
              "      <th></th>\n",
              "      <th></th>\n",
              "      <th></th>\n",
              "    </tr>\n",
              "  </thead>\n",
              "  <tbody>\n",
              "    <tr>\n",
              "      <th>Supervised_BILSTM</th>\n",
              "      <td>0.092677</td>\n",
              "      <td>0.0</td>\n",
              "      <td>0.035254</td>\n",
              "      <td>0.021127</td>\n",
              "      <td>0.031403</td>\n",
              "      <td>0.046053</td>\n",
              "      <td>0.074289</td>\n",
              "      <td>0.050557</td>\n",
              "      <td>0.022571</td>\n",
              "    </tr>\n",
              "  </tbody>\n",
              "</table>\n",
              "</div>"
            ],
            "text/plain": [
              "                   Classification_Loss  Epoch  ...  Recall_True  Test_Accuracy\n",
              "Model                                          ...                            \n",
              "Supervised_BILSTM             0.092677    0.0  ...     0.050557       0.022571\n",
              "\n",
              "[1 rows x 9 columns]"
            ]
          },
          "metadata": {
            "tags": []
          },
          "execution_count": 31
        }
      ]
    },
    {
      "cell_type": "markdown",
      "metadata": {
        "id": "2twecEG80PHP",
        "colab_type": "text"
      },
      "source": [
        "# drop out"
      ]
    },
    {
      "cell_type": "code",
      "metadata": {
        "id": "W2BRvVL-xHmn",
        "colab_type": "code",
        "colab": {
          "base_uri": "https://localhost:8080/",
          "height": 157
        },
        "outputId": "9d9ee5ef-85fa-4f48-cb9a-0cedb698a7b4"
      },
      "source": [
        "df_dropout_1.groupby('Model').mean().sort_index(axis = 1) "
      ],
      "execution_count": null,
      "outputs": [
        {
          "output_type": "execute_result",
          "data": {
            "text/html": [
              "<div>\n",
              "<style scoped>\n",
              "    .dataframe tbody tr th:only-of-type {\n",
              "        vertical-align: middle;\n",
              "    }\n",
              "\n",
              "    .dataframe tbody tr th {\n",
              "        vertical-align: top;\n",
              "    }\n",
              "\n",
              "    .dataframe thead th {\n",
              "        text-align: right;\n",
              "    }\n",
              "</style>\n",
              "<table border=\"1\" class=\"dataframe\">\n",
              "  <thead>\n",
              "    <tr style=\"text-align: right;\">\n",
              "      <th></th>\n",
              "      <th>Classification_Loss</th>\n",
              "      <th>Epoch</th>\n",
              "      <th>F1_Score_Fake</th>\n",
              "      <th>F1_Score_True</th>\n",
              "      <th>Precision_Fake</th>\n",
              "      <th>Precision_True</th>\n",
              "      <th>Recall_Fake</th>\n",
              "      <th>Recall_True</th>\n",
              "      <th>Test_Accuracy</th>\n",
              "    </tr>\n",
              "    <tr>\n",
              "      <th>Model</th>\n",
              "      <th></th>\n",
              "      <th></th>\n",
              "      <th></th>\n",
              "      <th></th>\n",
              "      <th></th>\n",
              "      <th></th>\n",
              "      <th></th>\n",
              "      <th></th>\n",
              "      <th></th>\n",
              "    </tr>\n",
              "  </thead>\n",
              "  <tbody>\n",
              "    <tr>\n",
              "      <th>Student</th>\n",
              "      <td>0.696626</td>\n",
              "      <td>15</td>\n",
              "      <td>0.674084</td>\n",
              "      <td>0.714558</td>\n",
              "      <td>0.726727</td>\n",
              "      <td>0.724582</td>\n",
              "      <td>0.666292</td>\n",
              "      <td>0.736668</td>\n",
              "      <td>0.703242</td>\n",
              "    </tr>\n",
              "    <tr>\n",
              "      <th>Teacher</th>\n",
              "      <td>0.557385</td>\n",
              "      <td>15</td>\n",
              "      <td>0.653467</td>\n",
              "      <td>0.728829</td>\n",
              "      <td>0.751890</td>\n",
              "      <td>0.691512</td>\n",
              "      <td>0.607504</td>\n",
              "      <td>0.785832</td>\n",
              "      <td>0.702015</td>\n",
              "    </tr>\n",
              "  </tbody>\n",
              "</table>\n",
              "</div>"
            ],
            "text/plain": [
              "         Classification_Loss  Epoch  ...  Recall_True  Test_Accuracy\n",
              "Model                                ...                            \n",
              "Student             0.696626     15  ...     0.736668       0.703242\n",
              "Teacher             0.557385     15  ...     0.785832       0.702015\n",
              "\n",
              "[2 rows x 9 columns]"
            ]
          },
          "metadata": {
            "tags": []
          },
          "execution_count": 25
        }
      ]
    },
    {
      "cell_type": "code",
      "metadata": {
        "id": "_RrYoNCVspY-",
        "colab_type": "code",
        "colab": {
          "base_uri": "https://localhost:8080/",
          "height": 157
        },
        "outputId": "280014fd-d4ca-48a4-bc86-42266490d002"
      },
      "source": [
        "std_error=df_dropout_1.groupby('Model').sem()\n",
        "h = std_error * t.ppf((1 + 0.95) / 2., len-1)\n",
        "h.sort_index(axis = 1)\n"
      ],
      "execution_count": null,
      "outputs": [
        {
          "output_type": "execute_result",
          "data": {
            "text/html": [
              "<div>\n",
              "<style scoped>\n",
              "    .dataframe tbody tr th:only-of-type {\n",
              "        vertical-align: middle;\n",
              "    }\n",
              "\n",
              "    .dataframe tbody tr th {\n",
              "        vertical-align: top;\n",
              "    }\n",
              "\n",
              "    .dataframe thead th {\n",
              "        text-align: right;\n",
              "    }\n",
              "</style>\n",
              "<table border=\"1\" class=\"dataframe\">\n",
              "  <thead>\n",
              "    <tr style=\"text-align: right;\">\n",
              "      <th></th>\n",
              "      <th>Classification_Loss</th>\n",
              "      <th>Epoch</th>\n",
              "      <th>F1_Score_Fake</th>\n",
              "      <th>F1_Score_True</th>\n",
              "      <th>Precision_Fake</th>\n",
              "      <th>Precision_True</th>\n",
              "      <th>Recall_Fake</th>\n",
              "      <th>Recall_True</th>\n",
              "      <th>Test_Accuracy</th>\n",
              "    </tr>\n",
              "    <tr>\n",
              "      <th>Model</th>\n",
              "      <th></th>\n",
              "      <th></th>\n",
              "      <th></th>\n",
              "      <th></th>\n",
              "      <th></th>\n",
              "      <th></th>\n",
              "      <th></th>\n",
              "      <th></th>\n",
              "      <th></th>\n",
              "    </tr>\n",
              "  </thead>\n",
              "  <tbody>\n",
              "    <tr>\n",
              "      <th>Student</th>\n",
              "      <td>0.063262</td>\n",
              "      <td>0.0</td>\n",
              "      <td>0.054021</td>\n",
              "      <td>0.033022</td>\n",
              "      <td>0.064895</td>\n",
              "      <td>0.065666</td>\n",
              "      <td>0.122499</td>\n",
              "      <td>0.106009</td>\n",
              "      <td>0.021501</td>\n",
              "    </tr>\n",
              "    <tr>\n",
              "      <th>Teacher</th>\n",
              "      <td>0.027313</td>\n",
              "      <td>0.0</td>\n",
              "      <td>0.052616</td>\n",
              "      <td>0.023505</td>\n",
              "      <td>0.064702</td>\n",
              "      <td>0.034117</td>\n",
              "      <td>0.104099</td>\n",
              "      <td>0.083452</td>\n",
              "      <td>0.011986</td>\n",
              "    </tr>\n",
              "  </tbody>\n",
              "</table>\n",
              "</div>"
            ],
            "text/plain": [
              "         Classification_Loss  Epoch  ...  Recall_True  Test_Accuracy\n",
              "Model                                ...                            \n",
              "Student             0.063262    0.0  ...     0.106009       0.021501\n",
              "Teacher             0.027313    0.0  ...     0.083452       0.011986\n",
              "\n",
              "[2 rows x 9 columns]"
            ]
          },
          "metadata": {
            "tags": []
          },
          "execution_count": 26
        }
      ]
    },
    {
      "cell_type": "markdown",
      "metadata": {
        "id": "XmsEsaKW1CO8",
        "colab_type": "text"
      },
      "source": [
        "# unlabel data"
      ]
    },
    {
      "cell_type": "code",
      "metadata": {
        "id": "5uIYbvosV9oO",
        "colab_type": "code",
        "colab": {
          "base_uri": "https://localhost:8080/"
        },
        "outputId": "98c41b3c-9b42-4d22-ce6e-535c9683372f"
      },
      "source": [
        "df_unlabel_1.groupby('Model').mean().sort_index(axis = 1) "
      ],
      "execution_count": null,
      "outputs": [
        {
          "output_type": "execute_result",
          "data": {
            "text/html": [
              "<div>\n",
              "<style scoped>\n",
              "    .dataframe tbody tr th:only-of-type {\n",
              "        vertical-align: middle;\n",
              "    }\n",
              "\n",
              "    .dataframe tbody tr th {\n",
              "        vertical-align: top;\n",
              "    }\n",
              "\n",
              "    .dataframe thead th {\n",
              "        text-align: right;\n",
              "    }\n",
              "</style>\n",
              "<table border=\"1\" class=\"dataframe\">\n",
              "  <thead>\n",
              "    <tr style=\"text-align: right;\">\n",
              "      <th></th>\n",
              "      <th>Classification_Loss</th>\n",
              "      <th>Epoch</th>\n",
              "      <th>F1_Score_Fake</th>\n",
              "      <th>F1_Score_True</th>\n",
              "      <th>Precision_Fake</th>\n",
              "      <th>Precision_True</th>\n",
              "      <th>Recall_Fake</th>\n",
              "      <th>Recall_True</th>\n",
              "      <th>Test_Accuracy</th>\n",
              "    </tr>\n",
              "    <tr>\n",
              "      <th>Model</th>\n",
              "      <th></th>\n",
              "      <th></th>\n",
              "      <th></th>\n",
              "      <th></th>\n",
              "      <th></th>\n",
              "      <th></th>\n",
              "      <th></th>\n",
              "      <th></th>\n",
              "      <th></th>\n",
              "    </tr>\n",
              "  </thead>\n",
              "  <tbody>\n",
              "    <tr>\n",
              "      <th>Student</th>\n",
              "      <td>0.840551</td>\n",
              "      <td>15</td>\n",
              "      <td>0.637223</td>\n",
              "      <td>0.567604</td>\n",
              "      <td>0.594712</td>\n",
              "      <td>0.659299</td>\n",
              "      <td>0.711073</td>\n",
              "      <td>0.519478</td>\n",
              "      <td>0.611260</td>\n",
              "    </tr>\n",
              "    <tr>\n",
              "      <th>Teacher</th>\n",
              "      <td>0.584915</td>\n",
              "      <td>15</td>\n",
              "      <td>0.585382</td>\n",
              "      <td>0.641535</td>\n",
              "      <td>0.689980</td>\n",
              "      <td>0.629152</td>\n",
              "      <td>0.561434</td>\n",
              "      <td>0.695918</td>\n",
              "      <td>0.629765</td>\n",
              "    </tr>\n",
              "  </tbody>\n",
              "</table>\n",
              "</div>"
            ],
            "text/plain": [
              "         Classification_Loss  Epoch  ...  Recall_True  Test_Accuracy\n",
              "Model                                ...                            \n",
              "Student             0.840551     15  ...     0.519478       0.611260\n",
              "Teacher             0.584915     15  ...     0.695918       0.629765\n",
              "\n",
              "[2 rows x 9 columns]"
            ]
          },
          "metadata": {
            "tags": []
          },
          "execution_count": 7
        }
      ]
    },
    {
      "cell_type": "code",
      "metadata": {
        "id": "xagQY2Y61WI5",
        "colab_type": "code",
        "colab": {
          "base_uri": "https://localhost:8080/"
        },
        "outputId": "5d3aba5c-fddc-4f49-d140-95f1fc19a823"
      },
      "source": [
        "std_error=df_unlabel_1.groupby('Model').sem().sort_index(axis = 1) \n",
        "h = std_error * t.ppf((1 + 0.95) / 2., len-1)\n",
        "h.sort_index(axis = 1)"
      ],
      "execution_count": null,
      "outputs": [
        {
          "output_type": "execute_result",
          "data": {
            "text/html": [
              "<div>\n",
              "<style scoped>\n",
              "    .dataframe tbody tr th:only-of-type {\n",
              "        vertical-align: middle;\n",
              "    }\n",
              "\n",
              "    .dataframe tbody tr th {\n",
              "        vertical-align: top;\n",
              "    }\n",
              "\n",
              "    .dataframe thead th {\n",
              "        text-align: right;\n",
              "    }\n",
              "</style>\n",
              "<table border=\"1\" class=\"dataframe\">\n",
              "  <thead>\n",
              "    <tr style=\"text-align: right;\">\n",
              "      <th></th>\n",
              "      <th>Classification_Loss</th>\n",
              "      <th>Epoch</th>\n",
              "      <th>F1_Score_Fake</th>\n",
              "      <th>F1_Score_True</th>\n",
              "      <th>Precision_Fake</th>\n",
              "      <th>Precision_True</th>\n",
              "      <th>Recall_Fake</th>\n",
              "      <th>Recall_True</th>\n",
              "      <th>Test_Accuracy</th>\n",
              "    </tr>\n",
              "    <tr>\n",
              "      <th>Model</th>\n",
              "      <th></th>\n",
              "      <th></th>\n",
              "      <th></th>\n",
              "      <th></th>\n",
              "      <th></th>\n",
              "      <th></th>\n",
              "      <th></th>\n",
              "      <th></th>\n",
              "      <th></th>\n",
              "    </tr>\n",
              "  </thead>\n",
              "  <tbody>\n",
              "    <tr>\n",
              "      <th>Student</th>\n",
              "      <td>0.141302</td>\n",
              "      <td>0.0</td>\n",
              "      <td>0.035559</td>\n",
              "      <td>0.075898</td>\n",
              "      <td>0.061058</td>\n",
              "      <td>0.037347</td>\n",
              "      <td>0.112970</td>\n",
              "      <td>0.146711</td>\n",
              "      <td>0.027184</td>\n",
              "    </tr>\n",
              "    <tr>\n",
              "      <th>Teacher</th>\n",
              "      <td>0.026657</td>\n",
              "      <td>0.0</td>\n",
              "      <td>0.072658</td>\n",
              "      <td>0.103848</td>\n",
              "      <td>0.132730</td>\n",
              "      <td>0.033005</td>\n",
              "      <td>0.168902</td>\n",
              "      <td>0.221620</td>\n",
              "      <td>0.053338</td>\n",
              "    </tr>\n",
              "  </tbody>\n",
              "</table>\n",
              "</div>"
            ],
            "text/plain": [
              "         Classification_Loss  Epoch  ...  Recall_True  Test_Accuracy\n",
              "Model                                ...                            \n",
              "Student             0.141302    0.0  ...     0.146711       0.027184\n",
              "Teacher             0.026657    0.0  ...     0.221620       0.053338\n",
              "\n",
              "[2 rows x 9 columns]"
            ]
          },
          "metadata": {
            "tags": []
          },
          "execution_count": 8
        }
      ]
    },
    {
      "cell_type": "markdown",
      "metadata": {
        "id": "3NpzIM0f1FUI",
        "colab_type": "text"
      },
      "source": [
        "# synonym and drop out"
      ]
    },
    {
      "cell_type": "code",
      "metadata": {
        "id": "979txDrGutam",
        "colab_type": "code",
        "colab": {
          "base_uri": "https://localhost:8080/"
        },
        "outputId": "d630196a-2062-4201-848b-7dfc37552dcc"
      },
      "source": [
        "df_synonymand_dropout_1.groupby('Model').mean().sort_index(axis = 1) "
      ],
      "execution_count": null,
      "outputs": [
        {
          "output_type": "execute_result",
          "data": {
            "text/html": [
              "<div>\n",
              "<style scoped>\n",
              "    .dataframe tbody tr th:only-of-type {\n",
              "        vertical-align: middle;\n",
              "    }\n",
              "\n",
              "    .dataframe tbody tr th {\n",
              "        vertical-align: top;\n",
              "    }\n",
              "\n",
              "    .dataframe thead th {\n",
              "        text-align: right;\n",
              "    }\n",
              "</style>\n",
              "<table border=\"1\" class=\"dataframe\">\n",
              "  <thead>\n",
              "    <tr style=\"text-align: right;\">\n",
              "      <th></th>\n",
              "      <th>Classification_Loss</th>\n",
              "      <th>Epoch</th>\n",
              "      <th>F1_Score_Fake</th>\n",
              "      <th>F1_Score_True</th>\n",
              "      <th>Precision_Fake</th>\n",
              "      <th>Precision_True</th>\n",
              "      <th>Recall_Fake</th>\n",
              "      <th>Recall_True</th>\n",
              "      <th>Test_Accuracy</th>\n",
              "    </tr>\n",
              "    <tr>\n",
              "      <th>Model</th>\n",
              "      <th></th>\n",
              "      <th></th>\n",
              "      <th></th>\n",
              "      <th></th>\n",
              "      <th></th>\n",
              "      <th></th>\n",
              "      <th></th>\n",
              "      <th></th>\n",
              "      <th></th>\n",
              "    </tr>\n",
              "  </thead>\n",
              "  <tbody>\n",
              "    <tr>\n",
              "      <th>Student</th>\n",
              "      <td>1.136267</td>\n",
              "      <td>15</td>\n",
              "      <td>0.627583</td>\n",
              "      <td>0.639892</td>\n",
              "      <td>0.658181</td>\n",
              "      <td>0.704503</td>\n",
              "      <td>0.665080</td>\n",
              "      <td>0.636627</td>\n",
              "      <td>0.646141</td>\n",
              "    </tr>\n",
              "    <tr>\n",
              "      <th>Teacher</th>\n",
              "      <td>0.597719</td>\n",
              "      <td>15</td>\n",
              "      <td>0.602144</td>\n",
              "      <td>0.622924</td>\n",
              "      <td>0.674913</td>\n",
              "      <td>0.684509</td>\n",
              "      <td>0.612696</td>\n",
              "      <td>0.660740</td>\n",
              "      <td>0.636263</td>\n",
              "    </tr>\n",
              "  </tbody>\n",
              "</table>\n",
              "</div>"
            ],
            "text/plain": [
              "         Classification_Loss  Epoch  ...  Recall_True  Test_Accuracy\n",
              "Model                                ...                            \n",
              "Student             1.136267     15  ...     0.636627       0.646141\n",
              "Teacher             0.597719     15  ...     0.660740       0.636263\n",
              "\n",
              "[2 rows x 9 columns]"
            ]
          },
          "metadata": {
            "tags": []
          },
          "execution_count": 9
        }
      ]
    },
    {
      "cell_type": "code",
      "metadata": {
        "id": "opPN5ayY1VxA",
        "colab_type": "code",
        "colab": {
          "base_uri": "https://localhost:8080/"
        },
        "outputId": "4c4bf271-5c8c-4566-aa3b-7ab4c8858eed"
      },
      "source": [
        "std_error=df_synonymand_dropout_1.groupby('Model').sem()\n",
        "h = std_error * t.ppf((1 + 0.95) / 2., len-1)\n",
        "h.sort_index(axis = 1)"
      ],
      "execution_count": null,
      "outputs": [
        {
          "output_type": "execute_result",
          "data": {
            "text/html": [
              "<div>\n",
              "<style scoped>\n",
              "    .dataframe tbody tr th:only-of-type {\n",
              "        vertical-align: middle;\n",
              "    }\n",
              "\n",
              "    .dataframe tbody tr th {\n",
              "        vertical-align: top;\n",
              "    }\n",
              "\n",
              "    .dataframe thead th {\n",
              "        text-align: right;\n",
              "    }\n",
              "</style>\n",
              "<table border=\"1\" class=\"dataframe\">\n",
              "  <thead>\n",
              "    <tr style=\"text-align: right;\">\n",
              "      <th></th>\n",
              "      <th>Classification_Loss</th>\n",
              "      <th>Epoch</th>\n",
              "      <th>F1_Score_Fake</th>\n",
              "      <th>F1_Score_True</th>\n",
              "      <th>Precision_Fake</th>\n",
              "      <th>Precision_True</th>\n",
              "      <th>Recall_Fake</th>\n",
              "      <th>Recall_True</th>\n",
              "      <th>Test_Accuracy</th>\n",
              "    </tr>\n",
              "    <tr>\n",
              "      <th>Model</th>\n",
              "      <th></th>\n",
              "      <th></th>\n",
              "      <th></th>\n",
              "      <th></th>\n",
              "      <th></th>\n",
              "      <th></th>\n",
              "      <th></th>\n",
              "      <th></th>\n",
              "      <th></th>\n",
              "    </tr>\n",
              "  </thead>\n",
              "  <tbody>\n",
              "    <tr>\n",
              "      <th>Student</th>\n",
              "      <td>0.175224</td>\n",
              "      <td>0.0</td>\n",
              "      <td>0.07697</td>\n",
              "      <td>0.053313</td>\n",
              "      <td>0.08671</td>\n",
              "      <td>0.085916</td>\n",
              "      <td>0.155365</td>\n",
              "      <td>0.135824</td>\n",
              "      <td>0.034884</td>\n",
              "    </tr>\n",
              "    <tr>\n",
              "      <th>Teacher</th>\n",
              "      <td>0.054198</td>\n",
              "      <td>0.0</td>\n",
              "      <td>0.06846</td>\n",
              "      <td>0.115457</td>\n",
              "      <td>0.09418</td>\n",
              "      <td>0.075804</td>\n",
              "      <td>0.166726</td>\n",
              "      <td>0.188931</td>\n",
              "      <td>0.042506</td>\n",
              "    </tr>\n",
              "  </tbody>\n",
              "</table>\n",
              "</div>"
            ],
            "text/plain": [
              "         Classification_Loss  Epoch  ...  Recall_True  Test_Accuracy\n",
              "Model                                ...                            \n",
              "Student             0.175224    0.0  ...     0.135824       0.034884\n",
              "Teacher             0.054198    0.0  ...     0.188931       0.042506\n",
              "\n",
              "[2 rows x 9 columns]"
            ]
          },
          "metadata": {
            "tags": []
          },
          "execution_count": 10
        }
      ]
    },
    {
      "cell_type": "markdown",
      "metadata": {
        "id": "Gv7inC5O1Jjw",
        "colab_type": "text"
      },
      "source": [
        "# synonym"
      ]
    },
    {
      "cell_type": "code",
      "metadata": {
        "id": "IIWK6qsrvWyh",
        "colab_type": "code",
        "colab": {
          "base_uri": "https://localhost:8080/"
        },
        "outputId": "d326e6fd-0598-4534-b86c-3484ddebec97"
      },
      "source": [
        "m=df_synonym_1.groupby('Model').mean().sort_index(axis = 1) \n",
        "m"
      ],
      "execution_count": null,
      "outputs": [
        {
          "output_type": "execute_result",
          "data": {
            "text/html": [
              "<div>\n",
              "<style scoped>\n",
              "    .dataframe tbody tr th:only-of-type {\n",
              "        vertical-align: middle;\n",
              "    }\n",
              "\n",
              "    .dataframe tbody tr th {\n",
              "        vertical-align: top;\n",
              "    }\n",
              "\n",
              "    .dataframe thead th {\n",
              "        text-align: right;\n",
              "    }\n",
              "</style>\n",
              "<table border=\"1\" class=\"dataframe\">\n",
              "  <thead>\n",
              "    <tr style=\"text-align: right;\">\n",
              "      <th></th>\n",
              "      <th>Classification_Loss</th>\n",
              "      <th>Epoch</th>\n",
              "      <th>F1_Score_Fake</th>\n",
              "      <th>F1_Score_True</th>\n",
              "      <th>Precision_Fake</th>\n",
              "      <th>Precision_True</th>\n",
              "      <th>Recall_Fake</th>\n",
              "      <th>Recall_True</th>\n",
              "      <th>Test_Accuracy</th>\n",
              "    </tr>\n",
              "    <tr>\n",
              "      <th>Model</th>\n",
              "      <th></th>\n",
              "      <th></th>\n",
              "      <th></th>\n",
              "      <th></th>\n",
              "      <th></th>\n",
              "      <th></th>\n",
              "      <th></th>\n",
              "      <th></th>\n",
              "      <th></th>\n",
              "    </tr>\n",
              "  </thead>\n",
              "  <tbody>\n",
              "    <tr>\n",
              "      <th>Student</th>\n",
              "      <td>0.746976</td>\n",
              "      <td>15</td>\n",
              "      <td>0.685935</td>\n",
              "      <td>0.703059</td>\n",
              "      <td>0.685518</td>\n",
              "      <td>0.709613</td>\n",
              "      <td>0.691596</td>\n",
              "      <td>0.701540</td>\n",
              "      <td>0.695453</td>\n",
              "    </tr>\n",
              "    <tr>\n",
              "      <th>Teacher</th>\n",
              "      <td>0.552150</td>\n",
              "      <td>15</td>\n",
              "      <td>0.674923</td>\n",
              "      <td>0.721937</td>\n",
              "      <td>0.710191</td>\n",
              "      <td>0.699707</td>\n",
              "      <td>0.649337</td>\n",
              "      <td>0.750072</td>\n",
              "      <td>0.702437</td>\n",
              "    </tr>\n",
              "  </tbody>\n",
              "</table>\n",
              "</div>"
            ],
            "text/plain": [
              "         Classification_Loss  Epoch  ...  Recall_True  Test_Accuracy\n",
              "Model                                ...                            \n",
              "Student             0.746976     15  ...     0.701540       0.695453\n",
              "Teacher             0.552150     15  ...     0.750072       0.702437\n",
              "\n",
              "[2 rows x 9 columns]"
            ]
          },
          "metadata": {
            "tags": []
          },
          "execution_count": 11
        }
      ]
    },
    {
      "cell_type": "code",
      "metadata": {
        "id": "HQphVhE61WtE",
        "colab_type": "code",
        "colab": {
          "base_uri": "https://localhost:8080/"
        },
        "outputId": "a5c46d1a-a9d7-4cf4-f94c-6a83445df311"
      },
      "source": [
        "std_error=df_synonym_1.groupby('Model').sem()\n",
        "h = std_error * t.ppf((1 + 0.95) / 2., len-1)\n",
        "h.sort_index(axis = 1)"
      ],
      "execution_count": null,
      "outputs": [
        {
          "output_type": "execute_result",
          "data": {
            "text/html": [
              "<div>\n",
              "<style scoped>\n",
              "    .dataframe tbody tr th:only-of-type {\n",
              "        vertical-align: middle;\n",
              "    }\n",
              "\n",
              "    .dataframe tbody tr th {\n",
              "        vertical-align: top;\n",
              "    }\n",
              "\n",
              "    .dataframe thead th {\n",
              "        text-align: right;\n",
              "    }\n",
              "</style>\n",
              "<table border=\"1\" class=\"dataframe\">\n",
              "  <thead>\n",
              "    <tr style=\"text-align: right;\">\n",
              "      <th></th>\n",
              "      <th>Classification_Loss</th>\n",
              "      <th>Epoch</th>\n",
              "      <th>F1_Score_Fake</th>\n",
              "      <th>F1_Score_True</th>\n",
              "      <th>Precision_Fake</th>\n",
              "      <th>Precision_True</th>\n",
              "      <th>Recall_Fake</th>\n",
              "      <th>Recall_True</th>\n",
              "      <th>Test_Accuracy</th>\n",
              "    </tr>\n",
              "    <tr>\n",
              "      <th>Model</th>\n",
              "      <th></th>\n",
              "      <th></th>\n",
              "      <th></th>\n",
              "      <th></th>\n",
              "      <th></th>\n",
              "      <th></th>\n",
              "      <th></th>\n",
              "      <th></th>\n",
              "      <th></th>\n",
              "    </tr>\n",
              "  </thead>\n",
              "  <tbody>\n",
              "    <tr>\n",
              "      <th>Student</th>\n",
              "      <td>0.116612</td>\n",
              "      <td>0.0</td>\n",
              "      <td>0.02409</td>\n",
              "      <td>0.028825</td>\n",
              "      <td>0.034939</td>\n",
              "      <td>0.034839</td>\n",
              "      <td>0.042853</td>\n",
              "      <td>0.047011</td>\n",
              "      <td>0.023916</td>\n",
              "    </tr>\n",
              "    <tr>\n",
              "      <th>Teacher</th>\n",
              "      <td>0.032637</td>\n",
              "      <td>0.0</td>\n",
              "      <td>0.03941</td>\n",
              "      <td>0.021863</td>\n",
              "      <td>0.032728</td>\n",
              "      <td>0.027142</td>\n",
              "      <td>0.062127</td>\n",
              "      <td>0.044747</td>\n",
              "      <td>0.021759</td>\n",
              "    </tr>\n",
              "  </tbody>\n",
              "</table>\n",
              "</div>"
            ],
            "text/plain": [
              "         Classification_Loss  Epoch  ...  Recall_True  Test_Accuracy\n",
              "Model                                ...                            \n",
              "Student             0.116612    0.0  ...     0.047011       0.023916\n",
              "Teacher             0.032637    0.0  ...     0.044747       0.021759\n",
              "\n",
              "[2 rows x 9 columns]"
            ]
          },
          "metadata": {
            "tags": []
          },
          "execution_count": 12
        }
      ]
    },
    {
      "cell_type": "markdown",
      "metadata": {
        "id": "0ia_Ft_ESlSm",
        "colab_type": "text"
      },
      "source": [
        "# Roc curve"
      ]
    },
    {
      "cell_type": "code",
      "metadata": {
        "id": "XMBclRtm6tF9",
        "colab_type": "code",
        "colab": {}
      },
      "source": [
        "fpr_supervised= np.load(path+'/roc/fpr_supervised.npy',allow_pickle=True)\n",
        "tpr_supervised= np.load(path+'/roc/tpr_supervised.npy',allow_pickle=True)\n",
        "\n",
        "fpr_labelp= np.load(path+'/roc/fpr_labelp.npy',allow_pickle=True)\n",
        "tpr_labelp= np.load(path+'/roc/tpr_labelp.npy',allow_pickle=True)\n",
        "\n",
        "fpr_dropout= np.load(path+'/roc/fpr_dropouts.npy',allow_pickle=True)\n",
        "tpr_dropout= np.load(path+'/roc/tpr_dropouts.npy',allow_pickle=True)\n",
        "\n",
        "fpr_synonym= np.load(path+'/roc/fpr_synonym.npy',allow_pickle=True)\n",
        "tpr_synonym= np.load(path+'/roc/tpr_synonym.npy',allow_pickle=True)\n",
        "\n",
        "fpr_unlabel= np.load(path+'/roc/fpr_unlabel.npy',allow_pickle=True)\n",
        "tpr_unlabel= np.load(path+'/roc/tpr_unlabel.npy',allow_pickle=True)\n",
        "\n",
        "fpr_synonymNdropout= np.load(path+'/roc/fpr_synonymNdropout.npy',allow_pickle=True)\n",
        "tpr_synonymNdropout= np.load(path+'/roc/tpr_synonymNdropout.npy',allow_pickle=True)"
      ],
      "execution_count": null,
      "outputs": []
    },
    {
      "cell_type": "code",
      "metadata": {
        "id": "ShfBqaQMS_d4",
        "colab_type": "code",
        "colab": {
          "base_uri": "https://localhost:8080/",
          "height": 279
        },
        "outputId": "f7ee3c9c-ca5b-4e08-fea0-3b2665894020"
      },
      "source": [
        "pyplot.plot(fpr_supervised[0], tpr_supervised[0], linestyle='--', label='Supervised')\n",
        "pyplot.plot(fpr_labelp[0], tpr_labelp[0], linestyle='--', label='Label Propogation')\n",
        "pyplot.plot(fpr_dropout[1], tpr_dropout[1], linestyle='--', label='MT dropouts')\n",
        "pyplot.plot(fpr_synonym[1], tpr_synonym[1], linestyle='--', label='MT synonym')\n",
        "pyplot.plot(fpr_unlabel[1], tpr_unlabel[1], linestyle='--', label='MT unlabel')\n",
        "pyplot.plot(fpr_synonymNdropout[1], tpr_synonymNdropout[1], linestyle='--', label='MT syn and dropout')\n",
        "pyplot.xlabel('False Positive Rate')\n",
        "pyplot.ylabel('True Positive Rate')\n",
        "# show the legend\n",
        "pyplot.legend()\n",
        "    # show the plot \n",
        "pyplot.savefig(path+'/roc/roccurve.png')\n",
        "pyplot.show()\n"
      ],
      "execution_count": null,
      "outputs": [
        {
          "output_type": "display_data",
          "data": {
            "image/png": "[encoded data removed]",
            "text/plain": [
              "<Figure size 432x288 with 1 Axes>"
            ]
          },
          "metadata": {
            "tags": [],
            "needs_background": "light"
          }
        }
      ]
    },
    {
      "cell_type": "code",
      "metadata": {
        "id": "eTMZ20FqTJGE",
        "colab_type": "code",
        "colab": {
          "base_uri": "https://localhost:8080/",
          "height": 368
        },
        "outputId": "e19c8292-0937-46e8-adea-0c20a1ed3a7f"
      },
      "source": [
        "|# for epoch 15 , if you want other then sequence is 10,15,20,25,30\n",
        "fpr_supervised[0]"
      ],
      "execution_count": null,
      "outputs": [
        {
          "output_type": "execute_result",
          "data": {
            "text/plain": [
              "array([0.        , 0.        , 0.        , 0.00900901, 0.00900901,\n",
              "       0.02702703, 0.02702703, 0.03603604, 0.03603604, 0.04504505,\n",
              "       0.04504505, 0.05405405, 0.05405405, 0.06306306, 0.06306306,\n",
              "       0.08108108, 0.08108108, 0.0990991 , 0.0990991 , 0.10810811,\n",
              "       0.10810811, 0.11711712, 0.11711712, 0.14414414, 0.14414414,\n",
              "       0.15315315, 0.15315315, 0.17117117, 0.17117117, 0.18018018,\n",
              "       0.18018018, 0.18918919, 0.18918919, 0.1981982 , 0.1981982 ,\n",
              "       0.20720721, 0.20720721, 0.21621622, 0.21621622, 0.22522523,\n",
              "       0.22522523, 0.23423423, 0.23423423, 0.24324324, 0.24324324,\n",
              "       0.25225225, 0.25225225, 0.26126126, 0.26126126, 0.27027027,\n",
              "       0.27027027, 0.27927928, 0.27927928, 0.2972973 , 0.2972973 ,\n",
              "       0.32432432, 0.32432432, 0.35135135, 0.35135135, 0.36036036,\n",
              "       0.36036036, 0.36936937, 0.36936937, 0.38738739, 0.38738739,\n",
              "       0.40540541, 0.40540541, 0.42342342, 0.42342342, 0.45945946,\n",
              "       0.45945946, 0.54054054, 0.54054054, 0.54954955, 0.54954955,\n",
              "       0.55855856, 0.55855856, 0.57657658, 0.57657658, 0.59459459,\n",
              "       0.59459459, 0.63063063, 0.63063063, 0.64864865, 0.64864865,\n",
              "       0.64864865, 0.68468468, 0.68468468, 0.72972973, 0.72972973,\n",
              "       0.78378378, 0.8018018 , 0.8018018 , 0.8018018 , 0.81081081,\n",
              "       0.81081081, 0.9009009 , 0.9009009 , 0.96396396, 0.99099099,\n",
              "       1.        ])"
            ]
          },
          "metadata": {
            "tags": []
          },
          "execution_count": 34
        }
      ]
    },
    {
      "cell_type": "code",
      "metadata": {
        "id": "DQqrV1v_TzH4",
        "colab_type": "code",
        "colab": {}
      },
      "source": [
        ""
      ],
      "execution_count": null,
      "outputs": []
    }
  ]
}