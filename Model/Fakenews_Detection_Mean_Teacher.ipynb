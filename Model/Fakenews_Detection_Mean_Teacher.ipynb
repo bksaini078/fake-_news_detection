{
  "nbformat": 4,
  "nbformat_minor": 0,
  "metadata": {
    "kernelspec": {
      "display_name": "Python 3",
      "language": "python",
      "name": "python3"
    },
    "language_info": {
      "codemirror_mode": {
        "name": "ipython",
        "version": 3
      },
      "file_extension": ".py",
      "mimetype": "text/x-python",
      "name": "python",
      "nbconvert_exporter": "python",
      "pygments_lexer": "ipython3",
      "version": "3.7.6"
    },
    "toc": {
      "base_numbering": 1,
      "nav_menu": {},
      "number_sections": true,
      "sideBar": true,
      "skip_h1_title": false,
      "title_cell": "Table of Contents",
      "title_sidebar": "Contents",
      "toc_cell": false,
      "toc_position": {},
      "toc_section_display": true,
      "toc_window_display": false
    },
    "varInspector": {
      "cols": {
        "lenName": 16,
        "lenType": 16,
        "lenVar": 40
      },
      "kernels_config": {
        "python": {
          "delete_cmd_postfix": "",
          "delete_cmd_prefix": "del ",
          "library": "var_list.py",
          "varRefreshCmd": "print(var_dic_list())"
        },
        "r": {
          "delete_cmd_postfix": ") ",
          "delete_cmd_prefix": "rm(",
          "library": "var_list.r",
          "varRefreshCmd": "cat(var_dic_list()) "
        }
      },
      "types_to_exclude": [
        "module",
        "function",
        "builtin_function_or_method",
        "instance",
        "_Feature"
      ],
      "window_display": false
    },
    "colab": {
      "name": "Fakenews_Detection_Mean Teacher.ipynb",
      "provenance": [],
      "collapsed_sections": [
        "EhBfb3HPHw1v",
        "oYkoxd8eaZpb",
        "Xt6qGg9JOUFI"
      ],
      "toc_visible": true,
      "include_colab_link": true
    }
  },
  "cells": [
    {
      "cell_type": "markdown",
      "metadata": {
        "id": "view-in-github",
        "colab_type": "text"
      },
      "source": [
        "<a href=\"https://colab.research.google.com/github/bksaini078/fake_news_detection/blob/Bhupender/Model/Fakenews_Detection_Mean_Teacher.ipynb\" target=\"_parent\"><img src=\"https://colab.research.google.com/assets/colab-badge.svg\" alt=\"Open In Colab\"/></a>"
      ]
    },
    {
      "cell_type": "markdown",
      "metadata": {
        "id": "yH_jzqgtaKZE",
        "colab_type": "text"
      },
      "source": [
        "# Declaring Libraries and Hyper parameter"
      ]
    },
    {
      "cell_type": "code",
      "metadata": {
        "id": "sOCj2bQfiLH8",
        "colab_type": "code",
        "outputId": "b3722c44-e5ab-4d68-b75c-36b923e35943",
        "colab": {
          "base_uri": "https://localhost:8080/",
          "height": 85
        }
      },
      "source": [
        "#please install contractions \n",
        "import numpy as np\n",
        "import re\n",
        "import nltk\n",
        "# import contractions\n",
        "import string\n",
        "import pandas as pd\n",
        "import pandas as pd\n",
        "import numpy as np\n",
        "import random\n",
        "import spacy\n",
        "import time\n",
        "import re\n",
        "\n",
        "from gensim.models import Doc2Vec\n",
        "from gensim.models.doc2vec import TaggedDocument\n",
        "from gensim import utils \n",
        "from gensim.test.utils import get_tmpfile\n",
        "from nltk.corpus import stopwords\n",
        "import nltk\n",
        "import en_core_web_sm\n",
        "from nltk.tokenize import sent_tokenize, word_tokenize\n",
        "from nltk.stem import PorterStemmer\n",
        "import tensorflow as tf\n",
        "import matplotlib.pyplot as plt\n",
        "\n",
        "nlp = en_core_web_sm.load()\n",
        "nltk.download('stopwords')\n",
        "nltk.download('punkt')\n",
        "porter=PorterStemmer()\n"
      ],
      "execution_count": 1,
      "outputs": [
        {
          "output_type": "stream",
          "text": [
            "[nltk_data] Downloading package stopwords to /root/nltk_data...\n",
            "[nltk_data]   Package stopwords is already up-to-date!\n",
            "[nltk_data] Downloading package punkt to /root/nltk_data...\n",
            "[nltk_data]   Package punkt is already up-to-date!\n"
          ],
          "name": "stdout"
        }
      ]
    },
    {
      "cell_type": "code",
      "metadata": {
        "id": "dlQXTXLez5Yl",
        "colab_type": "code",
        "outputId": "0061f008-c78c-4ec3-d71a-fc9d9cebdb6c",
        "colab": {
          "base_uri": "https://localhost:8080/",
          "height": 71
        }
      },
      "source": [
        "import tensorflow as tf \n",
        "import tensorflow.keras as tfk\n",
        "from tensorflow.keras.datasets import mnist\n",
        "from tensorflow.keras.layers import Input, Embedding, LSTM, Dense, Lambda\n",
        "from tensorflow.keras.models import Model\n",
        "import numpy as np\n",
        "import datetime\n",
        "from tensorflow import keras\n",
        "from tensorflow.keras.models import Sequential\n",
        "from tensorflow.keras.layers import Dense\n",
        "from tensorflow.keras.optimizers import SGD, Adam, RMSprop\n",
        "from tensorflow.keras.layers import *\n",
        "import tensorflow.keras.backend as K\n",
        "from tensorflow.keras.callbacks import LambdaCallback\n",
        "from tensorflow.keras import regularizers\n",
        "from sklearn.metrics import confusion_matrix\n",
        "import seaborn as sns\n",
        "import matplotlib.pyplot as plt\n",
        "#this is to enable eager execution\n",
        "# tf.compat.v1.enable_eager_execution()"
      ],
      "execution_count": 2,
      "outputs": [
        {
          "output_type": "stream",
          "text": [
            "/usr/local/lib/python3.6/dist-packages/statsmodels/tools/_testing.py:19: FutureWarning: pandas.util.testing is deprecated. Use the functions in the public API at pandas.testing instead.\n",
            "  import pandas.util.testing as tm\n"
          ],
          "name": "stderr"
        }
      ]
    },
    {
      "cell_type": "markdown",
      "metadata": {
        "id": "q3K9stXz2k28",
        "colab_type": "text"
      },
      "source": [
        "# Data Preprocessing\n",
        "\n",
        "\n"
      ]
    },
    {
      "cell_type": "markdown",
      "metadata": {
        "id": "EhBfb3HPHw1v",
        "colab_type": "text"
      },
      "source": [
        "## without spacy"
      ]
    },
    {
      "cell_type": "code",
      "metadata": {
        "id": "LkskAI2A2n-h",
        "colab_type": "code",
        "colab": {}
      },
      "source": [
        "REGEX = ('http[s]?://(?:[a-zA-Z]|[0-9]|[$-_@.&+]|'\n",
        "             '[!*\\(\\),]|(?:%[0-9a-fA-F][0-9a-fA-F]))+')\n",
        "\n",
        "NEWLINE_REGEX = ('[\\n\\r\\t]')\n",
        "def replace_contractions(text):\n",
        "    \"\"\"Replace contractions in string of text\"\"\"\n",
        "    return contractions.fix(text)\n",
        "\n",
        "\n",
        "def replace_ne(text: str, nlp) -> str:\n",
        "    '''\n",
        "    This function extracts the name entities, and then replace them with the ne labels.\n",
        "    :param text:\n",
        "    :type text:\n",
        "    :return:\n",
        "    :rtype:\n",
        "    '''\n",
        "    doc = nlp(text)\n",
        "    for ent in doc.ents:\n",
        "        text = text.replace(ent.text,ent.label_ )\n",
        "    return text\n",
        "def textClean(text):\n",
        "    \"\"\"\n",
        "    Get rid of the non-letter and non-number characters\n",
        "    \"\"\"\n",
        "    text = re.sub(REGEX, \" \", text)\n",
        "    text = re.sub(NEWLINE_REGEX, \" \", text)\n",
        "    text=re.sub(\"^\\d+\\s|\\s\\d+\\s|\\s\\d+$\", \" \", text)\n",
        "    text = text.lower().split()\n",
        "    stops = set(stopwords.words(\"english\"))\n",
        "    text = [w for w in text if not w in stops]\n",
        "    text = \" \".join(text)\n",
        "    return (text)\n",
        "\n",
        "def stemSentence(sentence):\n",
        "    token_words=word_tokenize(sentence)\n",
        "    token_words\n",
        "    stem_sentence=[]\n",
        "    for word in token_words:\n",
        "        stem_sentence.append(porter.stem(word))\n",
        "        stem_sentence.append(\" \")\n",
        "    return \"\".join(stem_sentence)\n",
        "\n",
        "def cleanup(text):\n",
        "    text = textClean(text)\n",
        "    text = text.translate(str.maketrans(\"\", \"\", string.punctuation))\n",
        "    text = replace_ne(text,nlp)\n",
        "    text= replace_contractions(text)\n",
        "\n",
        "    text= stemSentence(text)\n",
        "    return text\n",
        "\n",
        "\n"
      ],
      "execution_count": 0,
      "outputs": []
    },
    {
      "cell_type": "markdown",
      "metadata": {
        "id": "oYkoxd8eaZpb",
        "colab_type": "text"
      },
      "source": [
        "# Whole data set "
      ]
    },
    {
      "cell_type": "code",
      "metadata": {
        "id": "lFqRRN3sagS0",
        "colab_type": "code",
        "colab": {}
      },
      "source": [
        "path_newlabelled = \"/content/drive/My Drive/Colab Notebooks/wholeDataset.csv\";\n",
        "\n",
        "#0- real, 2-fake, 1- mixed, 3-unlabel\n",
        "data_n = pd.read_csv(path_newlabelled)\n",
        "# date\tsource\tT_content\tauthor\tvalue\n",
        "data_n.groupby('value').count()\n",
        "del data_n['date']\n",
        "del data_n['source']\n",
        "del data_n['author']\n",
        "data_df = data_n.drop(data_n[data_n.value==1].index)\n",
        "'''here adding unlable data with -1 value , for later use in MEAN teacher'''\n",
        "df_label= data_df.loc[(data_df['value'] == 0) | (data_df['value'] == 2)]\n",
        "df_label['value']=df_label['value'].map({0: 1, 2: 0})\n",
        "df_label.rename(columns={'value':'Label','T_content':'Article'}, inplace=True)\n",
        "df_label=df_label.reset_index(drop=True)\n",
        "\n",
        "'''this thing when you do need unlabel data seperately '''\n",
        "#taking unlabel data \n",
        "df_unlabel= data_df.loc[(data_df['value'] == 3)]\n",
        "df_unlabel['value']=df_unlabel['value'].map({3:''})\n",
        "df_unlabel.rename(columns={'value':'Label','T_content':'Article'}, inplace=True)\n",
        "df_unlabel=df_unlabel.reset_index(drop=True)\n",
        "del df_unlabel['Label']\n",
        "\n",
        "df_label,df_unlabel"
      ],
      "execution_count": 0,
      "outputs": []
    },
    {
      "cell_type": "code",
      "metadata": {
        "id": "vR78OBALrNRW",
        "colab_type": "code",
        "colab": {}
      },
      "source": [
        "df_label=df_label.dropna()\n",
        "df_label.groupby('Label').count(), df_unlabel[:100]\n"
      ],
      "execution_count": 0,
      "outputs": []
    },
    {
      "cell_type": "code",
      "metadata": {
        "id": "aE15QRxvoUAm",
        "colab_type": "code",
        "colab": {}
      },
      "source": [
        "#data preprocessing \n",
        "data_preprocessing(df_label)\n"
      ],
      "execution_count": 0,
      "outputs": []
    },
    {
      "cell_type": "code",
      "metadata": {
        "id": "LBzntV0Vy0BM",
        "colab_type": "code",
        "colab": {}
      },
      "source": [
        "# df_unlabel_x= df_unlabel[:100]\n",
        "# S= Spacy()\n",
        "for i in range(len(df_unlabel)):\n",
        "    \n",
        "        df_unlabel.loc[i,'Article'] = cleanup(df_unlabel.loc[i,'Article'])\n",
        "        \n",
        "\n",
        "\n",
        "#shuffling \n",
        "df_unlabel= df_unlabel.sample(frac=1).reset_index(drop=True)\n",
        "\n",
        "x_unlabelled= df_unlabel['Article'].values\n",
        "np.save('/content/drive/My Drive/Colab Notebooks/xun_shuffled.npy',x_unlabelled)\n",
        "# df_unlabel_x"
      ],
      "execution_count": 0,
      "outputs": []
    },
    {
      "cell_type": "markdown",
      "metadata": {
        "id": "K7ulTFQHF0q0",
        "colab_type": "text"
      },
      "source": [
        "## Data Preprocessing \n",
        "\n",
        "1.   data_prerpocessing() this function create without noise \n",
        "2.   data_preprocessing_noise() this function creates data with noise \n",
        "\n"
      ]
    },
    {
      "cell_type": "code",
      "metadata": {
        "id": "Es2cKB8132ec",
        "colab_type": "code",
        "cellView": "both",
        "colab": {}
      },
      "source": [
        "\n",
        "#calling spacy methodds\n",
        "\n",
        "\n",
        "def data_preprocessing(data):\n",
        "    #removing missing rows \n",
        "    # S= Spacy()\n",
        "    missing_rows=[]\n",
        "    data=data.dropna()\n",
        "\n",
        "   #cleaning data \n",
        "    for i in range(len(data)):\n",
        "    #with old method \n",
        "        data.loc[i, 'Article'] = cleanup(data.loc[i,'Article'])\n",
        "    # with spacy method \n",
        "        # data.loc[i, 'Article'] = S.orchestrate(data.loc[i,'Article'])  \n",
        "    #converting data. into bool \n",
        "    data['Label']= data['Label'].astype(int)\n",
        "\n",
        "    data['Article']= data['Article'].astype(str)\n",
        "\n",
        "    #shuffling the dataset \n",
        "    data= data.sample(frac=1).reset_index(drop=True)\n",
        "\n",
        "\n",
        "    train_size = int(0.75 * len(data))\n",
        "    test_size = len(data) - train_size\n",
        "\n",
        "    #splitting into test and train\n",
        "    x_train= data.loc[:train_size,'Article'].values\n",
        "    y_train= data.loc[:train_size,'Label'].values\n",
        "    x_test= data.loc[(train_size+1):,'Article'].values\n",
        "    y_test= data.loc[(train_size+1):,'Label'].values\n",
        "\n",
        "    #converting into np arrray and hot one encoding \n",
        "    y_train = tf.one_hot(y_train,1) # np.array(y_train)\n",
        "    y_test = tf.one_hot(y_test,1) #np.array(y_test)\n",
        "    #saving in to numpy files, so again again i dont have to clean the data\n",
        "    np.save('/content/drive/My Drive/Colab Notebooks/xtr_shuffled.npy',x_train)\n",
        "    np.save('/content/drive/My Drive/Colab Notebooks/xte_shuffled.npy',x_test)\n",
        "    np.save('/content/drive/My Drive/Colab Notebooks/ytr_shuffled.npy',y_train)\n",
        "    np.save('/content/drive/My Drive/Colab Notebooks/yte_shuffled.npy',y_test)\n",
        "    return\n",
        "\n",
        "\n",
        "\n",
        "#count of labels in the dataset \n",
        "# data.groupby('Label').count()\n",
        "# data['Article'][0]"
      ],
      "execution_count": 0,
      "outputs": []
    },
    {
      "cell_type": "code",
      "metadata": {
        "id": "zAi8URlLrBtO",
        "colab_type": "code",
        "colab": {}
      },
      "source": [
        "\n",
        "#calling spacy methodds\n",
        "\n",
        "\n",
        "def data_preprocessing(data):\n",
        "    #removing missing rows \n",
        "    # S= Spacy()\n",
        "    missing_rows=[]\n",
        "    data=data.dropna()\n",
        "\n",
        "   #cleaning data \n",
        "    for i in range(len(data)):\n",
        "    #with old method \n",
        "        data.loc[i, 'Article'] = cleanup(data.loc[i,'Article'])\n",
        "    # with spacy method \n",
        "        # data.loc[i, 'Article'] = S.orchestrate(data.loc[i,'Article'])  \n",
        "    #converting data. into bool \n",
        "    data['Label']= data['Label'].astype(int)\n",
        "\n",
        "    data['Article']= data['Article'].astype(str)\n",
        "\n",
        "    #shuffling the dataset \n",
        "    data= data.sample(frac=1).reset_index(drop=True)\n",
        "\n",
        "\n",
        "    train_size = int(0.75 * len(data))\n",
        "    test_size = len(data) - train_size\n",
        "\n",
        "    #splitting into test and train\n",
        "    x_train= data.loc[:train_size,'Article'].values\n",
        "    y_train= data.loc[:train_size,'Label'].values\n",
        "    x_test= data.loc[(train_size+1):,'Article'].values\n",
        "    y_test= data.loc[(train_size+1):,'Label'].values\n",
        "\n",
        "    #converting into np arrray and hot one encoding \n",
        "    y_train = tf.one_hot(y_train,1) # np.array(y_train)\n",
        "    y_test = tf.one_hot(y_test,1) #np.array(y_test)\n",
        "    #saving in to numpy files, so again again i dont have to clean the data\n",
        "    np.save('/content/drive/My Drive/Colab Notebooks/xtr_shuffled.npy',x_train)\n",
        "    np.save('/content/drive/My Drive/Colab Notebooks/xte_shuffled.npy',x_test)\n",
        "    np.save('/content/drive/My Drive/Colab Notebooks/ytr_shuffled.npy',y_train)\n",
        "    np.save('/content/drive/My Drive/Colab Notebooks/yte_shuffled.npy',y_test)\n",
        "    return\n",
        "\n",
        "\n",
        "\n",
        "#count of labels in the dataset \n",
        "# data.groupby('Label').count()\n",
        "# data['Article'][0]"
      ],
      "execution_count": 0,
      "outputs": []
    },
    {
      "cell_type": "code",
      "metadata": {
        "id": "fk7EGLaKrmvh",
        "colab_type": "code",
        "colab": {}
      },
      "source": [
        "#Reading data \n",
        "path_labelled = \"/content/drive/My Drive/Colab Notebooks/Labelled_Dataset.csv\";\n",
        "\n",
        "data = pd.read_csv(path_labelled)\n",
        "data_preprocessing(data)"
      ],
      "execution_count": 0,
      "outputs": []
    },
    {
      "cell_type": "code",
      "metadata": {
        "id": "7Uhp9gqj3EGh",
        "colab_type": "code",
        "colab": {}
      },
      "source": [
        "#Processing of unlabelled data \n",
        "path_unlabelled = \"/content/drive/My Drive/Colab Notebooks/Unlabeled_dataset.csv\";\n",
        "\n",
        "data_unlabel = pd.read_csv(path_unlabelled,nrows=8297)\n",
        "\n",
        "#removing missing rows \n",
        "missing_rows=[]\n",
        "for i in range(len(data_unlabel)):\n",
        "  if data_unlabel.loc[i,'Article'] != data_unlabel.loc[i, 'Article']:\n",
        "    missing_rows.append(i)\n",
        "data_unlabel = data_unlabel.drop(missing_rows).reset_index().drop(['index'],axis=1)\n",
        "#cleaning data \n",
        "for i in range(len(data_unlabel)):\n",
        "        data_unlabel.loc[i,'Article'] = cleanup(data_unlabel.loc[i,'Article'])\n",
        "        #using spacy\n",
        "        # data_unlabel.loc[i, 'Article'] = S.orchestrate(data_unlabel.loc[i,'Article'])\n",
        "\n",
        "\n",
        "#shuffling \n",
        "data_unlabel= data_unlabel.sample(frac=1).reset_index(drop=True)\n",
        "\n",
        "x_unlabelled= data_unlabel['Article'].values\n",
        "np.save('/content/drive/My Drive/Colab Notebooks/xun_shuffled.npy',x_unlabelled)\n"
      ],
      "execution_count": 0,
      "outputs": []
    },
    {
      "cell_type": "code",
      "metadata": {
        "id": "tOS6kdaVLaEm",
        "colab_type": "code",
        "outputId": "107caad5-420c-4526-a97d-11b0311a2969",
        "colab": {
          "base_uri": "https://localhost:8080/",
          "height": 119
        }
      },
      "source": [
        "#this function to clone from github\n",
        "# !git clone https://github.com/bksaini078/fake_news_detection.git"
      ],
      "execution_count": 0,
      "outputs": [
        {
          "output_type": "stream",
          "text": [
            "Cloning into 'fake_news_detection'...\n",
            "remote: Enumerating objects: 86, done.\u001b[K\n",
            "remote: Counting objects: 100% (86/86), done.\u001b[K\n",
            "remote: Compressing objects: 100% (61/61), done.\u001b[K\n",
            "remote: Total 86 (delta 26), reused 58 (delta 10), pack-reused 0\u001b[K\n",
            "Unpacking objects: 100% (86/86), done.\n"
          ],
          "name": "stdout"
        }
      ]
    },
    {
      "cell_type": "markdown",
      "metadata": {
        "id": "NAxQ1hDlaVX8",
        "colab_type": "text"
      },
      "source": [
        ""
      ]
    },
    {
      "cell_type": "markdown",
      "metadata": {
        "id": "8PH1eUT-ywSt",
        "colab_type": "text"
      },
      "source": [
        "# **You can start from here . If you have cleaned the data previously**"
      ]
    },
    {
      "cell_type": "code",
      "metadata": {
        "id": "yphcrw3PzBNa",
        "colab_type": "code",
        "outputId": "89ebf527-1c64-4e63-f84c-d6b7cbf533e1",
        "colab": {
          "base_uri": "https://localhost:8080/",
          "height": 54
        }
      },
      "source": [
        "\n",
        "import os \n",
        "import numpy as np\n",
        "\n",
        "\n",
        "#these file I have created , to save time of data preprocessing.\n",
        "if not os.path.isfile('/content/drive/My Drive/Colab Notebooks/xte_shuffled.npy') :\n",
        "  print(\"Please clean the data first\")\n",
        "else:\n",
        "    # x_train = np.load('/content/fake_news_detection/Data_Processing/xtr_shuffled.npy',allow_pickle=True)\n",
        "    # x_test = np.load('/content/fake_news_detection/Data_Processing/xte_shuffled.npy',allow_pickle=True)\n",
        "    # y_train = np.load('/content/fake_news_detection/Data_Processing/ytr_shuffled.npy',allow_pickle=True)\n",
        "    # y_test = np.load('/content/fake_news_detection/Data_Processing/yte_shuffled.npy',allow_pickle=True)\n",
        "    # x_unlabel=np.load('/content/fake_news_detection/Data_Processing/xun_shuffled.npy',allow_pickle=True)\n",
        "    #from colab\n",
        "    x_train = np.load('/content/drive/My Drive/Colab Notebooks/xtr_shuffled.npy',allow_pickle=True)\n",
        "    x_test = np.load('/content/drive/My Drive/Colab Notebooks/xte_shuffled.npy',allow_pickle=True)\n",
        "    y_train = np.load('/content/drive/My Drive/Colab Notebooks/ytr_shuffled.npy',allow_pickle=True)\n",
        "    y_test = np.load('/content/drive/My Drive/Colab Notebooks/yte_shuffled.npy',allow_pickle=True)\n",
        "    x_unlabel=np.load('/content/drive/My Drive/Colab Notebooks/xun_shuffled.npy',allow_pickle=True)\n",
        "    \n",
        "\n",
        "x_train[0]"
      ],
      "execution_count": 3,
      "outputs": [
        {
          "output_type": "execute_result",
          "data": {
            "text/plain": [
              "'free beacon fire top report “ financi transact ” somecardin frequent coveredth gpe free beacon fire cardin top report discov “ financi transact ” report somecardin cover site announc date report person recent accgpe work behalf norp billionair center recent highprofil legal disput date free beacon ’ s leadership publish note say site “ recent learn senior editor person enter previogp undisclos financi transact individu affili individu mr person cover report ” person ask resign accord note so note attach stori person wrote person regularli written date free beacon attach note stori person wrote org begin date note appear attach person ’ s stori org also known mile kwok org norp real estat tycoon involv byzantin legal battl conserv firm hire research peopl connect norp communist parti su deliv contract firm turn accgpe org ’ s team seed malwar devic truli dissid spi beij org later su org organ alleg defam org live gpe vocal critic norp govern appli asylum gpe person menticardinald sever time court document connect case firm su org strateg vision alleg counterclaim date cultiv org form close relationship american org like former org chairman white hogpe chief strategist person “ person anoth org intermediari approach strateg vision late perform research analyt numerogp norp nation allegedli link top parti offici ” respons strateg vision ’ s counterclaim org ’ s compani org profit acknowledg person cardin peopl introduc strateg vision gpe time stori date person menticardinald person context meet org leav white hogpe “ mr person say receiv call person gpe journalist long critic gpe mr person told mr org schedul give talk gpe hudson institut conserv think tank ” lawyer strateg vision file subpoena person date 26 ask produc document relat connect org law firm covington burl repres gpe free beacon person case object subpoena argu person ’ s journalist work would infring upon accord letter court file strateg vision ’ s lawyer strateg vision ’ s lawyer argu person ’ s involv org journalist natur firm cite deposit org gave declin answer paid person given anyth valu compani also wrote believ person board rule law societi organ found org person rule law societi ’ s registr form submit date gpe list person director organ accord person familiar situat spoke condit anonym person inform free beacon take unpaid director role group clear exactli financi transact took place involv person free beacon discov person declin comment free beacon ’ s statement say “ we disagr editori matter move on wish free beacon well free beacon ’ s editorinchief chairman declin comment beyond statement publish websit lawyer org profit corpor lawyer org immedi respond request comment lawyer strateg vision immedi respond request comment '"
            ]
          },
          "metadata": {
            "tags": []
          },
          "execution_count": 3
        }
      ]
    },
    {
      "cell_type": "code",
      "metadata": {
        "id": "QmVn2YXqkNux",
        "colab_type": "code",
        "colab": {}
      },
      "source": [
        "from tensorflow.keras.preprocessing import sequence\n",
        "from tensorflow.keras.models import Sequential\n",
        "from tensorflow.keras.layers import Dense, Dropout, Embedding, LSTM, Bidirectional\n",
        "from tensorflow.keras.preprocessing.text import Tokenizer\n",
        "\n",
        "max_features = 20000\n",
        "maxlen = 100\n",
        "batch_size = 32\n",
        "\n",
        "tokenizer=Tokenizer (num_words=None, filters='!\"#$%&()*+,-./:;<=>?@[\\\\]^_`{|}~\\t\\n', lower=True, split=' ', char_level=False, oov_token=None, document_count=0)\n",
        "full_article= np.hstack((x_train, x_test,x_unlabel))\n",
        "tokenizer.fit_on_texts(full_article)\n",
        "x_train_token=tokenizer.texts_to_sequences(x_train)\n",
        "x_test_token=tokenizer.texts_to_sequences(x_test)\n",
        "x_unlabel_token= tokenizer.texts_to_sequences(x_unlabel)\n"
      ],
      "execution_count": 0,
      "outputs": []
    },
    {
      "cell_type": "code",
      "metadata": {
        "id": "oC_gIZCMkRaz",
        "colab_type": "code",
        "outputId": "df1d4afd-6275-427c-dfe0-7f040f8a4525",
        "colab": {
          "base_uri": "https://localhost:8080/",
          "height": 34
        }
      },
      "source": [
        "x_train_seq = sequence.pad_sequences(x_train_token, maxlen=maxlen)\n",
        "x_test_seq=sequence.pad_sequences(x_test_token, maxlen=maxlen)\n",
        "x_unlabel_tar= sequence.pad_sequences(x_unlabel_token, maxlen= maxlen)\n",
        "#defining vocalbury size \n",
        "vocab_size = len(tokenizer.word_index)+1\n",
        "\n",
        "x_train= x_train_seq\n",
        "x_test= x_test_seq\n",
        "vocab_size,np.shape(x_train), np.shape(y_train),np.shape(x_unlabel_tar),np.shape(x_test),np.shape(y_test)"
      ],
      "execution_count": 5,
      "outputs": [
        {
          "output_type": "execute_result",
          "data": {
            "text/plain": [
              "(47250, (4799, 100), (4799, 1), (4048, 100), (1599, 100), (1599, 1))"
            ]
          },
          "metadata": {
            "tags": []
          },
          "execution_count": 5
        }
      ]
    },
    {
      "cell_type": "code",
      "metadata": {
        "id": "wr5OxSh7dt-x",
        "colab_type": "code",
        "outputId": "60839cdf-96d9-43e6-a01e-20325a80581a",
        "colab": {
          "base_uri": "https://localhost:8080/",
          "height": 34
        }
      },
      "source": [
        "def dataset_with_noise(x_train, y_train, x_unlabel, ratio=0.20 , test_train_split=0.25):\n",
        "    '''this function introduce noise in the training data for mean teacher model , \n",
        "    this function is used in calculating classification cost, user have to provide \n",
        "    amount of noise he want to addd(ration) and test train split ratio too'''\n",
        "    #amount of noise need to add in x_train data \n",
        "    noise=int(np.shape(x_train)[0]*ratio)\n",
        "    # taking column of x_train, need it later \n",
        "    x_column = np.shape(x_train)[1]\n",
        "\n",
        "    if noise <= int(np.shape(x_unlabel)[0]):\n",
        "\n",
        "        #taking number of noise from unlabel data \n",
        "        ratio_noise = x_unlabel_tar[:noise]\n",
        "\n",
        "        # creating -1 label for noise data \n",
        "        y_unlabel=np.full((np.shape(ratio_noise)[0], 1), -1)\n",
        "\n",
        "        # adding noise in train data \n",
        "        x = np.append(x_train, ratio_noise, axis=0)\n",
        "        y = np.append(y_train, y_unlabel, axis=0)\n",
        "        x = np.append(x,y, axis=1)\n",
        "        row = np.shape(x)[0]\n",
        "\n",
        "        # shufflin data \n",
        "        x =np.random.permutation(x)\n",
        "\n",
        "        #seperating label from x \n",
        "        y=np.reshape(x[:,x_column],(row,1))\n",
        "\n",
        "        # splitting into test and train \n",
        "        total_len= np.shape(x_train)[0]\n",
        "        test_split= int(total_len*test_train_split)\n",
        "        train_split = total_len- test_split\n",
        "        x_train_n=x[0:train_split,0:x_column]\n",
        "        x_test_n= x[train_split+1:total_len,0:x_column]\n",
        "\n",
        "        y_train_n= np.reshape(y[:train_split,0],(train_split,1))\n",
        "        y_test_n = np.reshape( y[train_split+1:total_len,0],(test_split-1,1))\n",
        "    else :\n",
        "        print('error: Insufficient unlabel data available !')\n",
        "\n",
        "    return x_train_n, y_train_n, x_test_n, y_test_n \n",
        "\n",
        "x_train_noise, y_train_noise, x_test_noise, y_test_noise = dataset_with_noise(x_train, y_train, x_unlabel_tar, 0.2, 0.25)\n",
        "np.shape(x_train_noise),np.shape(y_train_noise), np.shape(x_test_noise), np.shape(y_test_noise)"
      ],
      "execution_count": 6,
      "outputs": [
        {
          "output_type": "execute_result",
          "data": {
            "text/plain": [
              "((3600, 100), (3600, 1), (1198, 100), (1198, 1))"
            ]
          },
          "metadata": {
            "tags": []
          },
          "execution_count": 6
        }
      ]
    },
    {
      "cell_type": "markdown",
      "metadata": {
        "id": "swtc3CtsvXH5",
        "colab_type": "text"
      },
      "source": [
        "# Model Declaration\n",
        "\n"
      ]
    },
    {
      "cell_type": "code",
      "metadata": {
        "colab_type": "code",
        "id": "aFjsH6yzgB4V",
        "colab": {}
      },
      "source": [
        "max_features = 20000\n",
        "# cut texts after this number of words\n",
        "# (among top max_features most common words)\n",
        "maxlen = 100\n",
        "batch_size = 64\n",
        "epochs=6\n",
        "alpha=0.99\n",
        "ratio =0.5\n",
        "lr =0.0005"
      ],
      "execution_count": 0,
      "outputs": []
    },
    {
      "cell_type": "code",
      "metadata": {
        "id": "QR5z1R9C2big",
        "colab_type": "code",
        "colab": {}
      },
      "source": [
        "tf.keras.backend.clear_session()\n",
        "def BiLstmModel(maxlen, vocab_size):\n",
        "  inputs = keras.Input(shape=(maxlen,))\n",
        "  x =Embedding(vocab_size, 128, input_length=None)(inputs)\n",
        "  x =Bidirectional(LSTM(128))(x)\n",
        "  x = Dropout(0.2)(x)\n",
        "  x =Dense(2)(x)\n",
        "  x =Dense(1, activation='sigmoid')(x)\n",
        "  return Model(inputs,x)\n",
        "\n",
        "#Function to create confusion matrix \n",
        "def Confusion_matrix(model,x_test,y_true, caption='Confusion matrix'):\n",
        "    '''this function will create confusion matrix with predicted value and true label'''\n",
        "    y_hat= model.predict(x_test)\n",
        "    y_pred=(np.greater_equal(y_hat,0.51)).astype(int)\n",
        "    cm=confusion_matrix(y_true,y_pred)\n",
        "    # print(cm)\n",
        "    # calculating recall , precision and f1 score \n",
        "    tp_and_fp=np.sum(cm[:,1])\n",
        "    tn_and_fp=np.sum(cm[0,:])\n",
        "    tp_and_fn = np.sum(cm[1, : ])\n",
        "    tp_and_tn= np.trace(cm)\n",
        "    tp=(tp_and_fp-tn_and_fp+tp_and_tn)/2\n",
        "    \n",
        "    precision=tp/tp_and_fp \n",
        "    recall = tp/tp_and_fn\n",
        "    accuracy= np.trace(cm)/np.sum(cm)\n",
        "    # f1_score=sklearn.metrics.f1_score(y_true, y_pred)\n",
        "    f1_score= (2*precision*recall)/(precision+recall)\n",
        "    print('Precision:', precision)\n",
        "    print('Recall:', recall)\n",
        "    print('f1 Score:', f1_score)\n",
        "    print('Accuracy:', accuracy)\n",
        "\n",
        "    import matplotlib.pyplot as plt\n",
        "    figure = plt.figure(figsize=(8, 8))\n",
        "    # cm=np.around(cm.astype(int))\n",
        "    # con_mat_norm = np.around(cm, decimals=4)\n",
        "    con_mat_norm = np.around(cm.astype('float') / cm.sum(axis=1)[:, np.newaxis], decimals=2)\n",
        "    sns.heatmap(con_mat_norm, annot=True,cmap=plt.cm.Oranges)\n",
        "    plt.tight_layout()\n",
        "    plt.ylabel('True label')\n",
        "    plt.xlabel('Predicted label')\n",
        "    plt.title(caption)\n",
        "    \n",
        "    plt.show()\n",
        "    return cm\n",
        "\n",
        "#to see the plot of the data\n",
        "# model_supervised.summary(), tf.keras.utils.plot_model(model_supervised,show_shapes=True)"
      ],
      "execution_count": 0,
      "outputs": []
    },
    {
      "cell_type": "markdown",
      "metadata": {
        "id": "Xt6qGg9JOUFI",
        "colab_type": "text"
      },
      "source": [
        "# Supervised Model"
      ]
    },
    {
      "cell_type": "code",
      "metadata": {
        "id": "bGh0wEpCz7wo",
        "colab_type": "code",
        "colab": {
          "base_uri": "https://localhost:8080/",
          "height": 238
        },
        "outputId": "983f6505-531a-4491-a8b7-0e75775380f6"
      },
      "source": [
        "#for seeing the result clearly \n",
        "%load_ext tensorboard\n",
        "#deleting already available logs \n",
        "!rm -rf ./logs/ \n",
        "\n",
        "model_supervised = BiLstmModel(maxlen, vocab_size)\n",
        "model_supervised.compile(optimizer= tf.keras.optimizers.Adam(learning_rate= lr ),loss= 'binary_crossentropy', metrics=['accuracy'])\n",
        "print('Train...')\n",
        "log_dir = \"logs/fit/\" + datetime.datetime.now().strftime(\"%Y%m%d-%H%M%S\")\n",
        "tensorboard_callback = tf.keras.callbacks.TensorBoard(log_dir=log_dir, histogram_freq=1)\n",
        "history=model_supervised.fit(x_train, y_train,batch_size=batch_size,epochs=epochs,validation_split=0.3,callbacks=[tensorboard_callback])\n"
      ],
      "execution_count": 9,
      "outputs": [
        {
          "output_type": "stream",
          "text": [
            "Train...\n",
            "Epoch 1/6\n",
            "53/53 [==============================] - 28s 534ms/step - loss: 0.4951 - accuracy: 0.7315 - val_loss: 0.2041 - val_accuracy: 0.9299\n",
            "Epoch 2/6\n",
            "53/53 [==============================] - 28s 521ms/step - loss: 0.1187 - accuracy: 0.9568 - val_loss: 0.1117 - val_accuracy: 0.9556\n",
            "Epoch 3/6\n",
            "53/53 [==============================] - 27s 516ms/step - loss: 0.0493 - accuracy: 0.9845 - val_loss: 0.0731 - val_accuracy: 0.9743\n",
            "Epoch 4/6\n",
            "53/53 [==============================] - 27s 510ms/step - loss: 0.0593 - accuracy: 0.9678 - val_loss: 0.1128 - val_accuracy: 0.9451\n",
            "Epoch 5/6\n",
            "53/53 [==============================] - 27s 514ms/step - loss: 0.1068 - accuracy: 0.9464 - val_loss: 0.1567 - val_accuracy: 0.9271\n",
            "Epoch 6/6\n",
            "53/53 [==============================] - 27s 515ms/step - loss: 0.1081 - accuracy: 0.9455 - val_loss: 0.2072 - val_accuracy: 0.9076\n"
          ],
          "name": "stdout"
        }
      ]
    },
    {
      "cell_type": "code",
      "metadata": {
        "id": "xOnAcbMR7gJj",
        "colab_type": "code",
        "colab": {}
      },
      "source": [
        "#to load the tensor board\n",
        "%tensorboard --logdir logs/fit"
      ],
      "execution_count": 0,
      "outputs": []
    },
    {
      "cell_type": "markdown",
      "metadata": {
        "id": "P_7eqzTpDMvO",
        "colab_type": "text"
      },
      "source": [
        "## Plotting result "
      ]
    },
    {
      "cell_type": "code",
      "metadata": {
        "id": "t5L3fPHQChhX",
        "colab_type": "code",
        "colab": {}
      },
      "source": [
        "import matplotlib.pyplot as plt\n",
        "%matplotlib inline\n",
        "def show_train_history(train_history, train, validation):\n",
        "    plt.plot(train_history.history[train])\n",
        "    plt.plot(train_history.history[validation])\n",
        "    plt.title('Train History')\n",
        "    plt.ylabel(train)\n",
        "    plt.xlabel('Epoch')\n",
        "    plt.legend(['train', 'validation'], loc = 'upper left')\n",
        "    plt.show()\n",
        "show_train_history(history, 'accuracy', 'val_accuracy')\n",
        "show_train_history(history, 'loss', 'val_loss')\n"
      ],
      "execution_count": 0,
      "outputs": []
    },
    {
      "cell_type": "code",
      "metadata": {
        "id": "RaE5GnnQZMKn",
        "colab_type": "code",
        "outputId": "09534924-557f-4a91-ee02-465ace5b0905",
        "colab": {
          "base_uri": "https://localhost:8080/",
          "height": 679
        }
      },
      "source": [
        "#confusion matrix\n",
        "conf_matrix=Confusion_matrix(model_supervised,x_test,y_test, 'supervised model')\n"
      ],
      "execution_count": 10,
      "outputs": [
        {
          "output_type": "stream",
          "text": [
            "Precision: 0.9900497512437811\n",
            "Recall: 0.7171171171171171\n",
            "f1 Score: 0.831765935214211\n",
            "Accuracy: 0.8993120700437773\n"
          ],
          "name": "stdout"
        },
        {
          "output_type": "display_data",
          "data": {
            "image/png": "[encoded data removed]",
            "text/plain": [
              "<Figure size 576x576 with 2 Axes>"
            ]
          },
          "metadata": {
            "tags": [],
            "needs_background": "light"
          }
        }
      ]
    },
    {
      "cell_type": "markdown",
      "metadata": {
        "id": "hA3VRaeujjfn",
        "colab_type": "text"
      },
      "source": [
        "# MEAN teacher\n",
        "In this updation takes place during each step/batch. This model doesnt work "
      ]
    },
    {
      "cell_type": "code",
      "metadata": {
        "id": "_apEWAz_O_2J",
        "colab_type": "code",
        "outputId": "7545d387-a779-44e1-826f-878ab9589eff",
        "colab": {
          "base_uri": "https://localhost:8080/",
          "height": 357
        }
      },
      "source": [
        "tf.keras.backend.clear_session()\n",
        "teacher = BiLstmModel(maxlen,vocab_size)\n",
        "student = BiLstmModel(maxlen,vocab_size)\n",
        "teacher.summary()"
      ],
      "execution_count": 9,
      "outputs": [
        {
          "output_type": "stream",
          "text": [
            "Model: \"model\"\n",
            "_________________________________________________________________\n",
            "Layer (type)                 Output Shape              Param #   \n",
            "=================================================================\n",
            "input_1 (InputLayer)         [(None, 100)]             0         \n",
            "_________________________________________________________________\n",
            "embedding (Embedding)        (None, 100, 128)          6048000   \n",
            "_________________________________________________________________\n",
            "bidirectional (Bidirectional (None, 256)               263168    \n",
            "_________________________________________________________________\n",
            "dropout (Dropout)            (None, 256)               0         \n",
            "_________________________________________________________________\n",
            "dense (Dense)                (None, 2)                 514       \n",
            "_________________________________________________________________\n",
            "dense_1 (Dense)              (None, 1)                 3         \n",
            "=================================================================\n",
            "Total params: 6,311,685\n",
            "Trainable params: 6,311,685\n",
            "Non-trainable params: 0\n",
            "_________________________________________________________________\n"
          ],
          "name": "stdout"
        }
      ]
    },
    {
      "cell_type": "code",
      "metadata": {
        "id": "KekIhUcbkP4p",
        "colab_type": "code",
        "colab": {}
      },
      "source": [
        "\n",
        "\n",
        "#preparing the training dataset\n",
        "train_dataset = tf.data.Dataset.from_tensor_slices((x_train_noise, y_train_noise))\n",
        "train_dataset = train_dataset.shuffle(buffer_size=1024).batch(batch_size)\n",
        "\n",
        "# Prepare the validation dataset.\n",
        "val_dataset = tf.data.Dataset.from_tensor_slices((x_test, y_test))\n",
        "val_dataset = val_dataset.batch(batch_size)\n",
        "\n",
        "#preparing the target dataset \n",
        "tar_dataset =  tf.data.Dataset.from_tensor_slices(x_test_noise)\n",
        "tar_dataset = tar_dataset.shuffle(buffer_size=1024).batch(batch_size)\n",
        "\n",
        "\n",
        "\n",
        "# declaring loss function\n",
        "def classification_costs(logits, labels):\n",
        "    \"\"\" Commputing classification cost , after removing labels -1 of unlabelled data and then calculating \n",
        "    the binary cross entropy .\n",
        "    \"\"\"\n",
        "    applicable = tf.not_equal(labels, -1)\n",
        "\n",
        "     # Change -1s to zeros to make cross-entropy computable\n",
        "    labels = tf.where(applicable, labels, tf.zeros_like(labels))\n",
        "\n",
        "    # This will now have incorrect values for unlabeled examples\n",
        "    per_sample = tf.keras.losses.binary_crossentropy(labels,logits)\n",
        "    # Retain costs only for labeled\n",
        "    per_sample = tf.where(applicable, per_sample, tf.zeros_like(per_sample))\n",
        "    # Take mean over all examples, not just labeled examples.\n",
        "    # print('sample', np.shape(per_sample))\n",
        "    loss = tf.math.divide( tf.reduce_mean(tf.reduce_sum(per_sample)), np.shape(per_sample)[0])\n",
        "\n",
        "    return loss\n",
        "\n",
        "#custom loss function\n",
        "def Overall_Cost(classification_cost, consistency_cost, ratio=0.5):\n",
        "    return (ratio * classification_cost) + ((1 - ratio)*consistency_cost)\n",
        "#function for consistency cost \n",
        "def Consistency_Cost(teacher_output, student_output):\n",
        "    sq_diff_layer = tf.reduce_mean(tf.math.squared_difference(teacher_output, student_output))\n",
        "    return sq_diff_layer\n",
        "def ema(student_model, teacher_model, alpha=0.99):\n",
        "    '''\n",
        "    Calculates the exponential moving average of the student model weights and updates the teacher model weights\n",
        "    formula:\n",
        "    t_i = alpha * t_{i-1} + (1 - alpha) * s_i, with default alpha = 0.99\n",
        "    t_i = weights of teacher model in current epoch\n",
        "    s_i = weights of student model in current epoch\n",
        "    '''\n",
        "    #taking weights \n",
        "    student_weights = student_model.get_weights()\n",
        "    teacher_weights = teacher_model.get_weights()\n",
        "\n",
        "    #length must be equal otherwise it will not work \n",
        "    assert len(student_weights) == len(teacher_weights), 'length of student and teachers weights are not equal Please check. \\n Student: {}, \\n Teacher:{}'.format(\n",
        "        len(student_weights), len(teacher_weights))\n",
        "\n",
        "    new_layers = []\n",
        "    for i, layers in enumerate(student_weights):\n",
        "        new_layer = alpha*(teacher_weights[i]) + (1-alpha)*layers\n",
        "        new_layers.append(new_layer)\n",
        "    teacher_model.set_weights(new_layers)\n",
        "    return teacher_model\n",
        "\n",
        "#declaring metrics and loss function for student and teacher \n",
        "#declaring optimiser\n",
        "optimizer= tf.keras.optimizers.Adam(learning_rate= lr ) #trying changing learning rate , sometimes it gives good result \n",
        "train_metrics = tf.keras.metrics.BinaryAccuracy(name='Binary_Accuracy')\n",
        "val_acc_metric = keras.metrics.BinaryAccuracy(name=\"Binary_Acc\")\n",
        "teacher_acc_metric = keras.metrics.BinaryAccuracy(name=\"Binary_Acc_teacher\")\n"
      ],
      "execution_count": 0,
      "outputs": []
    },
    {
      "cell_type": "code",
      "metadata": {
        "id": "cf1xy3bDPWre",
        "colab_type": "code",
        "outputId": "40316970-6f77-4872-c492-940f76f41f29",
        "colab": {
          "base_uri": "https://localhost:8080/",
          "height": 1000
        }
      },
      "source": [
        "#this one for collecting the costs \n",
        "consistency=[]\n",
        "overall=[]\n",
        "classification=[]\n",
        "train_accuracy=[]\n",
        "steps=[]\n",
        "\n",
        "\n",
        "\n",
        "# iterator_unlabel = iter(tar_dataset)\n",
        "val_dataset = tf.data.Dataset.from_tensor_slices((x_test, y_test))\n",
        "val_dataset = val_dataset.batch(batch_size)\n",
        "\n",
        "#training teacher with one epoch \n",
        "# teacher.compile(optimizer='adam',loss='binary_crossentropy',metrics=['accuracy'])\n",
        "# teacher.fit(x_train, y_train, epochs=1, shuffle= True, verbose=2, validation_split=0.3, batch_size=batch_size) #validation_data=(x_test,y_test)\n",
        "#this I am doing to get all steps details in epoch\n",
        "i=0\n",
        "for epoch in range(epochs):  \n",
        "   print(*\"*****************\")\n",
        "   print('Start of epoch %d' % (epoch,))\n",
        "   print(*\"*****************\")\n",
        "   #iteration over batches \n",
        "   for step, (x_batch_train, y_batch_train) in enumerate(train_dataset):\n",
        "      with tf.GradientTape() as tape:\n",
        "         \n",
        "        # Run the forward pass of the layer\n",
        "         logits= student(x_batch_train, training= True)   \n",
        "         train_metrics(y_batch_train,logits)  \n",
        "\n",
        "         #Calculating classification cost \n",
        "         classification_cost = classification_costs(logits,y_batch_train)\n",
        "         classification.append(classification_cost)\n",
        "         \n",
        "         #calculating consistency cost for unlabelled dataset\n",
        "         iterator_unlabel = iter(tar_dataset)\n",
        "         x_batch_tar = iterator_unlabel.get_next()\n",
        "         tar_student = student(x_batch_tar)\n",
        "         tar_teacher = teacher(x_batch_tar)\n",
        "         consistency_cost= Consistency_Cost(tar_teacher,tar_student) \n",
        "         consistency.append(consistency_cost)\n",
        "\n",
        "         overall_cost= Overall_Cost(classification_cost, consistency_cost, ratio=0.5)\n",
        "         overall.append(overall_cost)\n",
        "        #  consistency_cost = consistency_cost #this is ratio \n",
        "         #adding loss to student model \n",
        "         \n",
        "         \n",
        "      \n",
        "      grads= tape.gradient(overall_cost, student.trainable_weights)\n",
        "      i=i+1\n",
        "      steps.append(i)\n",
        "    \n",
        "   \n",
        "    # the value of the variables to minimize the loss.\n",
        "      optimizer.apply_gradients(zip(grads, student.trainable_weights))\n",
        "      teacher= ema(student, teacher, alpha=alpha)\n",
        "      if step % 20==0:\n",
        "          print('Training loss:- Binary Cross entropy (for one batch) at step %s: %s' % (step, float(classification_cost)))\n",
        "          print(\"Consistency Cost: %s\" % (float(consistency_cost)))\n",
        "          print('Seen so far: %s samples' % ((step + 1) * batch_size))\n",
        "          print(\"Overall Cost: %s\" % (float(overall_cost)))\n",
        "          print(\"--------------- step, batch %s: %s ---------------------\"% (step,((step + 1) * batch_size)))\n",
        "   \n",
        "   \n",
        "   train_acc = train_metrics.result()\n",
        "   \n",
        "   #appending training accuracy\n",
        "   train_accuracy.append(train_acc)\n",
        "\n",
        "   print('Training acc over epoch: %s' % (float(train_acc)*100,))\n",
        "    # Reset training metrics at the end of each epoch\n",
        "   train_metrics.reset_states()\n",
        "   \n",
        "  # Run a validation loop at the end of each epoch.\n",
        "   val_acc_metric.reset_states()\n",
        "   teacher_acc_metric.reset_states()\n",
        "   iterator_val = iter(val_dataset)\n",
        "   x_batch_val, y_batch_val = iterator_val.get_next()\n",
        "   val_logits = student(x_batch_val)\n",
        "   plt.hist(val_logits)\n",
        "   plt.title('student')\n",
        "   plt.show()\n",
        "   val_logits_t = teacher(x_batch_val)\n",
        "   plt.hist(val_logits_t)\n",
        "   plt.title('teacher')\n",
        "   plt.show()\n",
        "\n",
        "\n",
        "   val_acc_metric(y_batch_val, val_logits)\n",
        "   teacher_acc_metric(y_batch_val, val_logits_t)\n",
        "   val_acc = val_acc_metric.result()\n",
        "   val_acc_t= teacher_acc_metric.result()\n",
        "  \n",
        "\n",
        "   print('Student Validation acc: %s' % (float(val_acc)*100,))\n",
        "   print('Teacher Validation acc: %s' % (float(val_acc_t)*100,))\n",
        "   \n",
        "   #saving weights on the run\n",
        "#    if epoch % 9==0:\n",
        "#         #saving the weights\n",
        "#         print(\"saving weights\")\n",
        "#         student.save_weights(\"/content/student_save\")\n",
        "#         teacher.save_weights(\"/content/teacher_save\")\n"
      ],
      "execution_count": 11,
      "outputs": [
        {
          "output_type": "stream",
          "text": [
            "* * * * * * * * * * * * * * * * *\n",
            "Start of epoch 0\n",
            "* * * * * * * * * * * * * * * * *\n",
            "Training loss:- Binary Cross entropy (for one batch) at step 0: 39.33502197265625\n",
            "Consistency Cost: 2.0272495021345094e-05\n",
            "Seen so far: 64 samples\n",
            "Overall Cost: 19.66752052307129\n",
            "--------------- step, batch 0: 64 ---------------------\n",
            "Training loss:- Binary Cross entropy (for one batch) at step 20: 30.109798431396484\n",
            "Consistency Cost: 0.04320048168301582\n",
            "Seen so far: 1344 samples\n",
            "Overall Cost: 15.076498985290527\n",
            "--------------- step, batch 20: 1344 ---------------------\n",
            "Training loss:- Binary Cross entropy (for one batch) at step 40: 13.410374641418457\n",
            "Consistency Cost: 0.13177883625030518\n",
            "Seen so far: 2624 samples\n",
            "Overall Cost: 6.771076679229736\n",
            "--------------- step, batch 40: 2624 ---------------------\n",
            "Training acc over epoch: 61.05555295944214\n"
          ],
          "name": "stdout"
        },
        {
          "output_type": "display_data",
          "data": {
            "image/png": "[encoded data removed]",
            "text/plain": [
              "<Figure size 432x288 with 1 Axes>"
            ]
          },
          "metadata": {
            "tags": [],
            "needs_background": "light"
          }
        },
        {
          "output_type": "display_data",
          "data": {
            "image/png": "[encoded data removed]",
            "text/plain": [
              "<Figure size 432x288 with 1 Axes>"
            ]
          },
          "metadata": {
            "tags": [],
            "needs_background": "light"
          }
        },
        {
          "output_type": "stream",
          "text": [
            "Student Validation acc: 95.3125\n",
            "Teacher Validation acc: 57.8125\n",
            "* * * * * * * * * * * * * * * * *\n",
            "Start of epoch 1\n",
            "* * * * * * * * * * * * * * * * *\n",
            "Training loss:- Binary Cross entropy (for one batch) at step 0: 3.998335361480713\n",
            "Consistency Cost: 0.2079891711473465\n",
            "Seen so far: 64 samples\n",
            "Overall Cost: 2.1031622886657715\n",
            "--------------- step, batch 0: 64 ---------------------\n",
            "Training loss:- Binary Cross entropy (for one batch) at step 20: 1.314204454421997\n",
            "Consistency Cost: 0.2277660369873047\n",
            "Seen so far: 1344 samples\n",
            "Overall Cost: 0.7709852457046509\n",
            "--------------- step, batch 20: 1344 ---------------------\n",
            "Training loss:- Binary Cross entropy (for one batch) at step 40: 0.34083980321884155\n",
            "Consistency Cost: 0.22050905227661133\n",
            "Seen so far: 2624 samples\n",
            "Overall Cost: 0.28067442774772644\n",
            "--------------- step, batch 40: 2624 ---------------------\n",
            "Training acc over epoch: 82.77778029441833\n"
          ],
          "name": "stdout"
        },
        {
          "output_type": "display_data",
          "data": {
            "image/png": "[encoded data removed]",
            "text/plain": [
              "<Figure size 432x288 with 1 Axes>"
            ]
          },
          "metadata": {
            "tags": [],
            "needs_background": "light"
          }
        },
        {
          "output_type": "display_data",
          "data": {
            "image/png": "[encoded data removed]",
            "text/plain": [
              "<Figure size 432x288 with 1 Axes>"
            ]
          },
          "metadata": {
            "tags": [],
            "needs_background": "light"
          }
        },
        {
          "output_type": "stream",
          "text": [
            "Student Validation acc: 100.0\n",
            "Teacher Validation acc: 90.625\n",
            "* * * * * * * * * * * * * * * * *\n",
            "Start of epoch 2\n",
            "* * * * * * * * * * * * * * * * *\n",
            "Training loss:- Binary Cross entropy (for one batch) at step 0: 1.188655972480774\n",
            "Consistency Cost: 0.19941726326942444\n",
            "Seen so far: 64 samples\n",
            "Overall Cost: 0.694036602973938\n",
            "--------------- step, batch 0: 64 ---------------------\n",
            "Training loss:- Binary Cross entropy (for one batch) at step 20: 0.10619409382343292\n",
            "Consistency Cost: 0.17418897151947021\n",
            "Seen so far: 1344 samples\n",
            "Overall Cost: 0.14019152522087097\n",
            "--------------- step, batch 20: 1344 ---------------------\n",
            "Training loss:- Binary Cross entropy (for one batch) at step 40: 0.02490043267607689\n",
            "Consistency Cost: 0.13166272640228271\n",
            "Seen so far: 2624 samples\n",
            "Overall Cost: 0.07828158140182495\n",
            "--------------- step, batch 40: 2624 ---------------------\n",
            "Training acc over epoch: 83.44444632530212\n"
          ],
          "name": "stdout"
        },
        {
          "output_type": "display_data",
          "data": {
            "image/png": "[encoded data removed]",
            "text/plain": [
              "<Figure size 432x288 with 1 Axes>"
            ]
          },
          "metadata": {
            "tags": [],
            "needs_background": "light"
          }
        },
        {
          "output_type": "display_data",
          "data": {
            "image/png": "[encoded data removed]",
            "text/plain": [
              "<Figure size 432x288 with 1 Axes>"
            ]
          },
          "metadata": {
            "tags": [],
            "needs_background": "light"
          }
        },
        {
          "output_type": "stream",
          "text": [
            "Student Validation acc: 98.4375\n",
            "Teacher Validation acc: 98.4375\n",
            "* * * * * * * * * * * * * * * * *\n",
            "Start of epoch 3\n",
            "* * * * * * * * * * * * * * * * *\n",
            "Training loss:- Binary Cross entropy (for one batch) at step 0: 0.022665629163384438\n",
            "Consistency Cost: 0.09134586155414581\n",
            "Seen so far: 64 samples\n",
            "Overall Cost: 0.05700574442744255\n",
            "--------------- step, batch 0: 64 ---------------------\n",
            "Training loss:- Binary Cross entropy (for one batch) at step 20: 0.030758406966924667\n",
            "Consistency Cost: 0.03691691532731056\n",
            "Seen so far: 1344 samples\n",
            "Overall Cost: 0.033837661147117615\n",
            "--------------- step, batch 20: 1344 ---------------------\n",
            "Training loss:- Binary Cross entropy (for one batch) at step 40: 0.023029694333672523\n",
            "Consistency Cost: 0.02911544032394886\n",
            "Seen so far: 2624 samples\n",
            "Overall Cost: 0.026072567328810692\n",
            "--------------- step, batch 40: 2624 ---------------------\n",
            "Training acc over epoch: 83.22222232818604\n"
          ],
          "name": "stdout"
        },
        {
          "output_type": "display_data",
          "data": {
            "image/png": "[encoded data removed]",
            "text/plain": [
              "<Figure size 432x288 with 1 Axes>"
            ]
          },
          "metadata": {
            "tags": [],
            "needs_background": "light"
          }
        },
        {
          "output_type": "display_data",
          "data": {
            "image/png": "[encoded data removed]",
            "text/plain": [
              "<Figure size 432x288 with 1 Axes>"
            ]
          },
          "metadata": {
            "tags": [],
            "needs_background": "light"
          }
        },
        {
          "output_type": "stream",
          "text": [
            "Student Validation acc: 100.0\n",
            "Teacher Validation acc: 100.0\n",
            "* * * * * * * * * * * * * * * * *\n",
            "Start of epoch 4\n",
            "* * * * * * * * * * * * * * * * *\n",
            "Training loss:- Binary Cross entropy (for one batch) at step 0: 0.3392871022224426\n",
            "Consistency Cost: 0.01605352945625782\n",
            "Seen so far: 64 samples\n",
            "Overall Cost: 0.17767031490802765\n",
            "--------------- step, batch 0: 64 ---------------------\n",
            "Training loss:- Binary Cross entropy (for one batch) at step 20: 0.027959533035755157\n",
            "Consistency Cost: 0.019782429561018944\n",
            "Seen so far: 1344 samples\n",
            "Overall Cost: 0.023870982229709625\n",
            "--------------- step, batch 20: 1344 ---------------------\n",
            "Training loss:- Binary Cross entropy (for one batch) at step 40: 0.05171997472643852\n",
            "Consistency Cost: 0.0019969106651842594\n",
            "Seen so far: 2624 samples\n",
            "Overall Cost: 0.026858443394303322\n",
            "--------------- step, batch 40: 2624 ---------------------\n",
            "Training acc over epoch: 83.5277795791626\n"
          ],
          "name": "stdout"
        },
        {
          "output_type": "display_data",
          "data": {
            "image/png": "[encoded data removed]",
            "text/plain": [
              "<Figure size 432x288 with 1 Axes>"
            ]
          },
          "metadata": {
            "tags": [],
            "needs_background": "light"
          }
        },
        {
          "output_type": "display_data",
          "data": {
            "image/png": "[encoded data removed]",
            "text/plain": [
              "<Figure size 432x288 with 1 Axes>"
            ]
          },
          "metadata": {
            "tags": [],
            "needs_background": "light"
          }
        },
        {
          "output_type": "stream",
          "text": [
            "Student Validation acc: 100.0\n",
            "Teacher Validation acc: 100.0\n",
            "* * * * * * * * * * * * * * * * *\n",
            "Start of epoch 5\n",
            "* * * * * * * * * * * * * * * * *\n",
            "Training loss:- Binary Cross entropy (for one batch) at step 0: 0.017529426142573357\n",
            "Consistency Cost: 0.0022323536686599255\n",
            "Seen so far: 64 samples\n",
            "Overall Cost: 0.009880890138447285\n",
            "--------------- step, batch 0: 64 ---------------------\n",
            "Training loss:- Binary Cross entropy (for one batch) at step 20: 0.021853458136320114\n",
            "Consistency Cost: 0.0002193156979046762\n",
            "Seen so far: 1344 samples\n",
            "Overall Cost: 0.011036386713385582\n",
            "--------------- step, batch 20: 1344 ---------------------\n",
            "Training loss:- Binary Cross entropy (for one batch) at step 40: 0.039176251739263535\n",
            "Consistency Cost: 0.008143258281052113\n",
            "Seen so far: 2624 samples\n",
            "Overall Cost: 0.023659754544496536\n",
            "--------------- step, batch 40: 2624 ---------------------\n",
            "Training acc over epoch: 83.5277795791626\n"
          ],
          "name": "stdout"
        },
        {
          "output_type": "display_data",
          "data": {
            "image/png": "[encoded data removed]",
            "text/plain": [
              "<Figure size 432x288 with 1 Axes>"
            ]
          },
          "metadata": {
            "tags": [],
            "needs_background": "light"
          }
        },
        {
          "output_type": "display_data",
          "data": {
            "image/png": "[encoded data removed]",
            "text/plain": [
              "<Figure size 432x288 with 1 Axes>"
            ]
          },
          "metadata": {
            "tags": [],
            "needs_background": "light"
          }
        },
        {
          "output_type": "stream",
          "text": [
            "Student Validation acc: 100.0\n",
            "Teacher Validation acc: 100.0\n"
          ],
          "name": "stdout"
        }
      ]
    },
    {
      "cell_type": "code",
      "metadata": {
        "id": "IE5MJ_Kbij30",
        "colab_type": "code",
        "outputId": "70946a80-17bd-490a-9c28-c8e77a9fabe3",
        "colab": {
          "base_uri": "https://localhost:8080/",
          "height": 1000
        }
      },
      "source": [
        "# confusion Matrix \n",
        "conf_student=Confusion_matrix(student, x_test,y_test,'Student Model')\n",
        "conf_teacher=Confusion_matrix(teacher,x_test,y_test,'Teacher Model')\n"
      ],
      "execution_count": 14,
      "outputs": [
        {
          "output_type": "stream",
          "text": [
            "Precision: 0.9735915492957746\n",
            "Recall: 0.9963963963963964\n",
            "f1 Score: 0.9848619768477294\n",
            "Accuracy: 0.9893683552220137\n"
          ],
          "name": "stdout"
        },
        {
          "output_type": "display_data",
          "data": {
            "image/png": "[encoded data removed]",
            "text/plain": [
              "<Figure size 576x576 with 2 Axes>"
            ]
          },
          "metadata": {
            "tags": [],
            "needs_background": "light"
          }
        },
        {
          "output_type": "stream",
          "text": [
            "Precision: 0.9648506151142355\n",
            "Recall: 0.9891891891891892\n",
            "f1 Score: 0.9768683274021354\n",
            "Accuracy: 0.983739837398374\n"
          ],
          "name": "stdout"
        },
        {
          "output_type": "display_data",
          "data": {
            "image/png": "[encoded data removed]",
            "text/plain": [
              "<Figure size 576x576 with 2 Axes>"
            ]
          },
          "metadata": {
            "tags": [],
            "needs_background": "light"
          }
        }
      ]
    },
    {
      "cell_type": "code",
      "metadata": {
        "id": "26zTAUCWhzhU",
        "colab_type": "code",
        "colab": {
          "base_uri": "https://localhost:8080/",
          "height": 34
        },
        "outputId": "d6ff0ec7-6b21-4cec-ac7e-2b82ad64ea75"
      },
      "source": [
        "# tp_and_fn = cm.sum(1)\n",
        "# tp_and_fp = cm.sum(0)\n",
        "# tp = np.trace(cm)\n",
        "\n",
        "# precision = tp / tp_and_fp\n",
        "# recall = tp / tp_and_fn\n",
        "tp_and_fp=np.sum(conf_student[:,1])\n",
        "tp_and_fn=np.sum(conf_student[1,:])\n",
        "tn_and_fp=np.sum(conf_student[0,:])\n",
        "tp_and_tn= np.trace(conf_student)\n",
        "total = np.sum(conf_student) \n",
        "tp=(tp_and_fp-tn_and_fp+tp_and_tn)/2\n",
        "fp=tp_and_fp-tp\n",
        "precision=tp/tp_and_fp \n",
        "recall = tp/tp_and_fn\n",
        "f1= 2*recall*precision/(recall+precision)\n"
      ],
      "execution_count": 75,
      "outputs": [
        {
          "output_type": "execute_result",
          "data": {
            "text/plain": [
              "(0.9615384615384616, 0.990990990990991, 0.933786078098472)"
            ]
          },
          "metadata": {
            "tags": []
          },
          "execution_count": 75
        }
      ]
    },
    {
      "cell_type": "code",
      "metadata": {
        "id": "HI_tV9nQRg4Z",
        "colab_type": "code",
        "outputId": "b99955d9-356c-4ca8-9bb8-5cb7bf361ea9",
        "colab": {
          "base_uri": "https://localhost:8080/",
          "height": 621
        }
      },
      "source": [
        "import matplotlib.pyplot as plt\n",
        "figure = plt.figure(figsize=(15, 10))\n",
        "plt.plot(steps, consistency,'.', color='c')\n",
        "# plt.plot(steps, classification, color='b')\n",
        "# plt.plot(steps, overall, color='k')\n",
        "plt.title('Consistency Cost')\n",
        "plt.ylabel('Cost')\n",
        "plt.xlabel('steps')\n",
        "plt.legend(['Consistency Cost'], loc = 'upper left')\n",
        "plt.show()\n",
        "\n"
      ],
      "execution_count": 14,
      "outputs": [
        {
          "output_type": "display_data",
          "data": {
            "image/png": "[encoded data removed]",
            "text/plain": [
              "<Figure size 1080x720 with 1 Axes>"
            ]
          },
          "metadata": {
            "tags": [],
            "needs_background": "light"
          }
        }
      ]
    },
    {
      "cell_type": "code",
      "metadata": {
        "id": "Iu-Zi4SsSHQ5",
        "colab_type": "code",
        "outputId": "7b9279ea-f8d4-4c72-c0f2-59d83cd55df6",
        "colab": {
          "base_uri": "https://localhost:8080/",
          "height": 513
        }
      },
      "source": [
        "import matplotlib.pyplot as plt\n",
        "figure = plt.figure(figsize=(19, 8))\n",
        "plt.plot(steps, classification, '.',color='k')\n",
        "plt.plot(steps, overall,'.', color='b')\n",
        "\n",
        "plt.title('Consistency Cost and Overall cost ')\n",
        "plt.ylabel('Cost')\n",
        "plt.xlabel('steps')\n",
        "plt.legend(['Classification Cost', 'Overall Cost'], loc = 'upper right')\n",
        "plt.show()\n"
      ],
      "execution_count": 15,
      "outputs": [
        {
          "output_type": "display_data",
          "data": {
            "image/png": "[encoded data removed]",
            "text/plain": [
              "<Figure size 1368x576 with 1 Axes>"
            ]
          },
          "metadata": {
            "tags": [],
            "needs_background": "light"
          }
        }
      ]
    }
  ]
}